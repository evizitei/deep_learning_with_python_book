{
 "cells": [
  {
   "cell_type": "code",
   "execution_count": 2,
   "id": "910c4ac6-316d-40a7-a968-3f03bdeacadf",
   "metadata": {},
   "outputs": [],
   "source": [
    "import os\n",
    "os.environ[\"KERAS_BACKEND\"] = \"jax\"\n",
    "import keras"
   ]
  },
  {
   "cell_type": "code",
   "execution_count": 3,
   "id": "66bcf766",
   "metadata": {},
   "outputs": [
    {
     "name": "stderr",
     "output_type": "stream",
     "text": [
      "Platform 'METAL' is experimental and not all JAX functionality may be correctly supported!\n"
     ]
    },
    {
     "name": "stdout",
     "output_type": "stream",
     "text": [
      "Metal device set to: Apple M3 Pro\n"
     ]
    },
    {
     "name": "stderr",
     "output_type": "stream",
     "text": [
      "WARNING: All log messages before absl::InitializeLog() is called are written to STDERR\n",
      "W0000 00:00:1732561111.207968 35839590 mps_client.cc:510] WARNING: JAX Apple GPU support is experimental and not all JAX functionality is correctly supported!\n",
      "I0000 00:00:1732561111.219700 35839590 service.cc:145] XLA service 0x60000378a000 initialized for platform METAL (this does not guarantee that XLA will be used). Devices:\n",
      "I0000 00:00:1732561111.219716 35839590 service.cc:153]   StreamExecutor device (0): Metal, <undefined>\n",
      "I0000 00:00:1732561111.222024 35839590 mps_client.cc:406] Using Simple allocator.\n",
      "I0000 00:00:1732561111.222031 35839590 mps_client.cc:384] XLA backend will use up to 28989243392 bytes on device 0 for SimpleAllocator.\n"
     ]
    },
    {
     "data": {
      "text/plain": [
       "Array([[1.],\n",
       "       [1.]], dtype=float32)"
      ]
     },
     "execution_count": 3,
     "metadata": {},
     "output_type": "execute_result"
    }
   ],
   "source": [
    "x = keras.ops.ones(shape=(2, 1))\n",
    "x\n",
    "\n"
   ]
  },
  {
   "cell_type": "code",
   "execution_count": 4,
   "id": "d0f8fa0b",
   "metadata": {},
   "outputs": [],
   "source": [
    "x = keras.ops.zeros(shape=(2,1))"
   ]
  },
  {
   "cell_type": "code",
   "execution_count": 10,
   "id": "783d96bf",
   "metadata": {},
   "outputs": [
    {
     "data": {
      "text/plain": [
       "Array([[0.30910337],\n",
       "       [0.25909734],\n",
       "       [0.5616666 ]], dtype=float32)"
      ]
     },
     "execution_count": 10,
     "metadata": {},
     "output_type": "execute_result"
    }
   ],
   "source": [
    "rand_x = keras.random.uniform(shape=(3,1))\n",
    "\n",
    "rand_x"
   ]
  },
  {
   "cell_type": "code",
   "execution_count": 14,
   "id": "5b208d77-d744-42a2-92e6-bd6d9eb77d84",
   "metadata": {},
   "outputs": [
    {
     "data": {
      "text/plain": [
       "Array([[-0.32251447],\n",
       "       [ 1.0465071 ],\n",
       "       [-0.8690599 ]], dtype=float32)"
      ]
     },
     "execution_count": 14,
     "metadata": {},
     "output_type": "execute_result"
    }
   ],
   "source": [
    "v = keras.Variable(keras.random.normal(shape=(3,1)))\n",
    "v.value"
   ]
  },
  {
   "cell_type": "code",
   "execution_count": 17,
   "id": "e3d95279-b4a7-4cff-8f3c-dcc177ef881e",
   "metadata": {},
   "outputs": [
    {
     "data": {
      "text/plain": [
       "Array([[0.6774855 ],\n",
       "       [2.0465071 ],\n",
       "       [0.13094008]], dtype=float32)"
      ]
     },
     "execution_count": 17,
     "metadata": {},
     "output_type": "execute_result"
    }
   ],
   "source": [
    "v.assign(v + 1.0)"
   ]
  },
  {
   "cell_type": "code",
   "execution_count": 18,
   "id": "cc76b05b-1bd5-426e-8b54-e6bb59718b1f",
   "metadata": {},
   "outputs": [
    {
     "data": {
      "text/plain": [
       "Array([[0.45898664],\n",
       "       [4.1881914 ],\n",
       "       [0.0171453 ]], dtype=float32)"
      ]
     },
     "execution_count": 18,
     "metadata": {},
     "output_type": "execute_result"
    }
   ],
   "source": [
    "keras.ops.square(v)"
   ]
  },
  {
   "cell_type": "code",
   "execution_count": 36,
   "id": "82b21856-1279-4106-8c1d-ee4cdf2060b6",
   "metadata": {},
   "outputs": [
    {
     "data": {
      "text/plain": [
       "(Array(9., dtype=float32), Array([6.], dtype=float32))"
      ]
     },
     "execution_count": 36,
     "metadata": {},
     "output_type": "execute_result"
    }
   ],
   "source": [
    "import jax\n",
    "input_const = keras.ops.convert_to_tensor([3.])\n",
    "input_const.shape\n",
    "\n",
    "def sq_tens(x):\n",
    "    return keras.ops.sum(keras.ops.square(x))\n",
    "g_func = jax.value_and_grad(sq_tens)\n",
    "g_func(input_const)"
   ]
  },
  {
   "cell_type": "code",
   "execution_count": 38,
   "id": "344be49c-4e41-4c64-ba49-4d39729d01e5",
   "metadata": {},
   "outputs": [
    {
     "data": {
      "text/plain": [
       "Array(2., dtype=float32, weak_type=True)"
      ]
     },
     "execution_count": 38,
     "metadata": {},
     "output_type": "execute_result"
    }
   ],
   "source": [
    "a = 2.0\n",
    "b = 3.0\n",
    "jax.grad(jax.lax.mul)(b, a)"
   ]
  },
  {
   "cell_type": "code",
   "execution_count": 41,
   "id": "79abfd6e-dce2-4f29-a4dd-c5e2bf2ddf8e",
   "metadata": {},
   "outputs": [
    {
     "data": {
      "text/plain": [
       "Array(9.8, dtype=float32)"
      ]
     },
     "execution_count": 41,
     "metadata": {},
     "output_type": "execute_result"
    }
   ],
   "source": [
    "def position(time):\n",
    "    return 4.9 * (time ** 2.0)\n",
    "d1_func = jax.grad(position)\n",
    "d1 = d1_func(2.0)\n",
    "d2 = jax.grad(d1_func)(d1)\n",
    "d2"
   ]
  },
  {
   "cell_type": "code",
   "execution_count": 42,
   "id": "9e113467-3b83-4b71-9386-5b97f56f7ae1",
   "metadata": {},
   "outputs": [],
   "source": [
    "import numpy as np"
   ]
  },
  {
   "cell_type": "code",
   "execution_count": 43,
   "id": "67a2da8e-1e0e-437a-b946-1693c0ee9e82",
   "metadata": {},
   "outputs": [],
   "source": [
    "num_samples_per_class = 1000\n",
    "cvr_mat = [[1., 0.5],[0.5, 1.]]\n",
    "negative_samples = np.random.multivariate_normal(mean=[0,3], cov=cvr_mat, size=num_samples_per_class)\n",
    "positive_samples = np.random.multivariate_normal(mean=[3,0], cov=cvr_mat, size=num_samples_per_class)\n"
   ]
  },
  {
   "cell_type": "code",
   "execution_count": 45,
   "id": "c2173c23-816a-4998-8e88-cf4696f9fb71",
   "metadata": {},
   "outputs": [],
   "source": [
    "inputs = np.vstack((negative_samples, positive_samples)).astype(np.float32)"
   ]
  },
  {
   "cell_type": "code",
   "execution_count": 46,
   "id": "43622d52-cc4a-42af-b22e-baf46fea5b65",
   "metadata": {},
   "outputs": [
    {
     "data": {
      "text/plain": [
       "(2000, 2)"
      ]
     },
     "execution_count": 46,
     "metadata": {},
     "output_type": "execute_result"
    }
   ],
   "source": [
    "inputs.shape"
   ]
  },
  {
   "cell_type": "code",
   "execution_count": 47,
   "id": "386bdbf6-2030-4d0d-9358-5d7aa576a3a6",
   "metadata": {},
   "outputs": [
    {
     "ename": "ModuleNotFoundError",
     "evalue": "No module named 'matplotlib'",
     "output_type": "error",
     "traceback": [
      "\u001b[0;31m---------------------------------------------------------------------------\u001b[0m",
      "\u001b[0;31mModuleNotFoundError\u001b[0m                       Traceback (most recent call last)",
      "Cell \u001b[0;32mIn[47], line 1\u001b[0m\n\u001b[0;32m----> 1\u001b[0m \u001b[38;5;28;01mimport\u001b[39;00m \u001b[38;5;21;01mmatplotlib\u001b[39;00m\u001b[38;5;21;01m.\u001b[39;00m\u001b[38;5;21;01mpyplot\u001b[39;00m \u001b[38;5;28;01mas\u001b[39;00m \u001b[38;5;21;01mplt\u001b[39;00m\n",
      "\u001b[0;31mModuleNotFoundError\u001b[0m: No module named 'matplotlib'"
     ]
    }
   ],
   "source": [
    "import matplotlib.pyplot as plt"
   ]
  }
 ],
 "metadata": {
  "kernelspec": {
   "display_name": "Python 3 (ipykernel)",
   "language": "python",
   "name": "python3"
  },
  "language_info": {
   "codemirror_mode": {
    "name": "ipython",
    "version": 3
   },
   "file_extension": ".py",
   "mimetype": "text/x-python",
   "name": "python",
   "nbconvert_exporter": "python",
   "pygments_lexer": "ipython3",
   "version": "3.10.15"
  }
 },
 "nbformat": 4,
 "nbformat_minor": 5
}
