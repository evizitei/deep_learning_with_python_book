{
 "cells": [
  {
   "cell_type": "code",
   "execution_count": 9,
   "id": "62d8cfad-ae2f-46f8-8d96-6cf30995cbc1",
   "metadata": {},
   "outputs": [
    {
     "data": {
      "text/plain": [
       "['Cat', 'cat_vs_dogs_small', 'Dog', 'cat_vs_dog_small']"
      ]
     },
     "execution_count": 9,
     "metadata": {},
     "output_type": "execute_result"
    }
   ],
   "source": [
    "# dataset prep one time\n",
    "import os, shutil, pathlib\n",
    "original_dir = pathlib.Path(\"./../data/PetImages\")\n",
    "new_basedir = pathlib.Path(\"./../data/PetImages/cat_vs_dog_small\")\n",
    "\n",
    "def make_subset(subset_name, start_index, end_index):\n",
    "    for category in (\"cat\", \"dog\"):\n",
    "        newdir = new_basedir / subset_name / category\n",
    "        os.makedirs(newdir, exist_ok=True)\n",
    "        fnames = [f\"{i}.jpg\" for i in range(start_index, end_index)]\n",
    "        for fname in fnames:\n",
    "            shutil.copyfile(src= original_dir / category / fname,\n",
    "                            dst = newdir / f\"{fname}\")\n",
    "\n",
    "os.listdir(original_dir)"
   ]
  },
  {
   "cell_type": "code",
   "execution_count": 11,
   "id": "d654fe97-a1d7-42a1-883f-1638d840b8e9",
   "metadata": {},
   "outputs": [],
   "source": [
    "make_subset(\"train\", start_index=0, end_index=1000)\n",
    "make_subset(\"validation\", start_index=1000, end_index=1500)\n",
    "make_subset(\"test\", start_index=1500, end_index=2500)"
   ]
  },
  {
   "cell_type": "code",
   "execution_count": 68,
   "id": "2d625314-caa5-41d7-bfa8-c3f73f22878f",
   "metadata": {},
   "outputs": [],
   "source": [
    "from tensorflow import keras\n",
    "from tensorflow.keras import layers\n",
    "\n",
    "inputs = keras.Input(shape=(180, 180, 3))\n",
    "x = layers.Rescaling(1./255)(inputs)\n",
    "x = layers.Conv2D(filters=32, kernel_size=3, activation=\"relu\")(x)\n",
    "x = layers.MaxPooling2D(pool_size=2)(x)\n",
    "x = layers.Conv2D(filters=64, kernel_size=3, activation=\"relu\")(x)\n",
    "x = layers.MaxPooling2D(pool_size=2)(x)\n",
    "x = layers.Conv2D(filters=128, kernel_size=3, activation=\"relu\")(x)\n",
    "x = layers.MaxPooling2D(pool_size=2)(x)\n",
    "x = layers.Conv2D(filters=256, kernel_size=3, activation=\"relu\")(x)\n",
    "x = layers.MaxPooling2D(pool_size=2)(x)\n",
    "x = layers.Conv2D(filters=256, kernel_size=3, activation=\"relu\")(x)\n",
    "x = layers.Flatten()(x)\n",
    "outputs = layers.Dense(1, activation=\"sigmoid\")(x)\n",
    "model = keras.Model(inputs=inputs, outputs=outputs)"
   ]
  },
  {
   "cell_type": "code",
   "execution_count": 57,
   "id": "68112faf-3337-4053-939a-70a66e5165e3",
   "metadata": {},
   "outputs": [
    {
     "name": "stdout",
     "output_type": "stream",
     "text": [
      "Model: \"model_3\"\n",
      "_________________________________________________________________\n",
      " Layer (type)                Output Shape              Param #   \n",
      "=================================================================\n",
      " input_5 (InputLayer)        [(None, 180, 180, 3)]     0         \n",
      "                                                                 \n",
      " rescaling_4 (Rescaling)     (None, 180, 180, 3)       0         \n",
      "                                                                 \n",
      " conv2d_20 (Conv2D)          (None, 178, 178, 32)      896       \n",
      "                                                                 \n",
      " max_pooling2d_16 (MaxPooli  (None, 89, 89, 32)        0         \n",
      " ng2D)                                                           \n",
      "                                                                 \n",
      " conv2d_21 (Conv2D)          (None, 87, 87, 64)        18496     \n",
      "                                                                 \n",
      " max_pooling2d_17 (MaxPooli  (None, 43, 43, 64)        0         \n",
      " ng2D)                                                           \n",
      "                                                                 \n",
      " conv2d_22 (Conv2D)          (None, 41, 41, 128)       73856     \n",
      "                                                                 \n",
      " max_pooling2d_18 (MaxPooli  (None, 20, 20, 128)       0         \n",
      " ng2D)                                                           \n",
      "                                                                 \n",
      " conv2d_23 (Conv2D)          (None, 18, 18, 256)       295168    \n",
      "                                                                 \n",
      " max_pooling2d_19 (MaxPooli  (None, 9, 9, 256)         0         \n",
      " ng2D)                                                           \n",
      "                                                                 \n",
      " conv2d_24 (Conv2D)          (None, 7, 7, 256)         590080    \n",
      "                                                                 \n",
      " flatten_2 (Flatten)         (None, 12544)             0         \n",
      "                                                                 \n",
      " dense_4 (Dense)             (None, 1)                 12545     \n",
      "                                                                 \n",
      "=================================================================\n",
      "Total params: 991041 (3.78 MB)\n",
      "Trainable params: 991041 (3.78 MB)\n",
      "Non-trainable params: 0 (0.00 Byte)\n",
      "_________________________________________________________________\n"
     ]
    }
   ],
   "source": [
    "model.summary()"
   ]
  },
  {
   "cell_type": "code",
   "execution_count": 69,
   "id": "fec93865-fcdf-4912-a261-f34750241ea2",
   "metadata": {},
   "outputs": [],
   "source": [
    "model.compile(loss=\"binary_crossentropy\", optimizer=\"rmsprop\", metrics=[\"accuracy\"])"
   ]
  },
  {
   "cell_type": "code",
   "execution_count": 59,
   "id": "f1ca29e4-b63d-4328-b315-0fedc8bce60a",
   "metadata": {},
   "outputs": [
    {
     "name": "stdout",
     "output_type": "stream",
     "text": [
      "Found 1999 files belonging to 2 classes.\n",
      "Found 1000 files belonging to 2 classes.\n",
      "Found 2000 files belonging to 2 classes.\n"
     ]
    }
   ],
   "source": [
    "from tensorflow.keras.utils import image_dataset_from_directory\n",
    "train_dataset = image_dataset_from_directory(\n",
    "    new_basedir / \"train\",\n",
    "    image_size=(180, 180),\n",
    "    batch_size=32\n",
    ")\n",
    "val_dataset = image_dataset_from_directory(\n",
    "    new_basedir / \"validation\",\n",
    "    image_size=(180, 180),\n",
    "    batch_size=32\n",
    ")\n",
    "\n",
    "test_dataset = image_dataset_from_directory(\n",
    "    new_basedir / \"test\",\n",
    "    image_size=(180, 180),\n",
    "    batch_size=32\n",
    ")"
   ]
  },
  {
   "cell_type": "code",
   "execution_count": 60,
   "id": "e1149788-7a1a-47c9-a3b0-212bb83504f5",
   "metadata": {},
   "outputs": [],
   "source": [
    "clean_train_dataset = train_dataset.ignore_errors()\n",
    "clean_val_dataset = val_dataset.ignore_errors()\n",
    "clean_test_dataset = test_dataset.ignore_errors()\n"
   ]
  },
  {
   "cell_type": "code",
   "execution_count": 70,
   "id": "fbd03333-c017-44eb-9007-4201410144b3",
   "metadata": {},
   "outputs": [
    {
     "name": "stdout",
     "output_type": "stream",
     "text": [
      "Epoch 1/30\n",
      "     63/Unknown - 3s 41ms/step - loss: 0.7345 - accuracy: 0.5288"
     ]
    },
    {
     "name": "stderr",
     "output_type": "stream",
     "text": [
      "Corrupt JPEG data: 214 extraneous bytes before marker 0xd9\n"
     ]
    },
    {
     "name": "stdout",
     "output_type": "stream",
     "text": [
      "INFO:tensorflow:Assets written to: assets/convnet_from_scratch/assets\n"
     ]
    },
    {
     "name": "stderr",
     "output_type": "stream",
     "text": [
      "INFO:tensorflow:Assets written to: assets/convnet_from_scratch/assets\n"
     ]
    },
    {
     "name": "stdout",
     "output_type": "stream",
     "text": [
      "63/63 [==============================] - 4s 53ms/step - loss: 0.7345 - accuracy: 0.5288 - val_loss: 0.6906 - val_accuracy: 0.5430\n",
      "Epoch 2/30\n",
      "63/63 [==============================] - ETA: 0s - loss: 0.6920 - accuracy: 0.5548"
     ]
    },
    {
     "name": "stderr",
     "output_type": "stream",
     "text": [
      "Corrupt JPEG data: 214 extraneous bytes before marker 0xd9\n"
     ]
    },
    {
     "name": "stdout",
     "output_type": "stream",
     "text": [
      "INFO:tensorflow:Assets written to: assets/convnet_from_scratch/assets\n"
     ]
    },
    {
     "name": "stderr",
     "output_type": "stream",
     "text": [
      "INFO:tensorflow:Assets written to: assets/convnet_from_scratch/assets\n"
     ]
    },
    {
     "name": "stdout",
     "output_type": "stream",
     "text": [
      "63/63 [==============================] - 3s 50ms/step - loss: 0.6920 - accuracy: 0.5548 - val_loss: 0.6470 - val_accuracy: 0.6410\n",
      "Epoch 3/30\n",
      "63/63 [==============================] - ETA: 0s - loss: 0.6597 - accuracy: 0.6183"
     ]
    },
    {
     "name": "stderr",
     "output_type": "stream",
     "text": [
      "Corrupt JPEG data: 214 extraneous bytes before marker 0xd9\n"
     ]
    },
    {
     "name": "stdout",
     "output_type": "stream",
     "text": [
      "INFO:tensorflow:Assets written to: assets/convnet_from_scratch/assets\n"
     ]
    },
    {
     "name": "stderr",
     "output_type": "stream",
     "text": [
      "INFO:tensorflow:Assets written to: assets/convnet_from_scratch/assets\n"
     ]
    },
    {
     "name": "stdout",
     "output_type": "stream",
     "text": [
      "63/63 [==============================] - 3s 50ms/step - loss: 0.6597 - accuracy: 0.6183 - val_loss: 0.6073 - val_accuracy: 0.6710\n",
      "Epoch 4/30\n",
      "63/63 [==============================] - ETA: 0s - loss: 0.6119 - accuracy: 0.6758"
     ]
    },
    {
     "name": "stderr",
     "output_type": "stream",
     "text": [
      "Corrupt JPEG data: 214 extraneous bytes before marker 0xd9\n"
     ]
    },
    {
     "name": "stdout",
     "output_type": "stream",
     "text": [
      "63/63 [==============================] - 3s 47ms/step - loss: 0.6119 - accuracy: 0.6758 - val_loss: 0.6214 - val_accuracy: 0.6410\n",
      "Epoch 5/30\n",
      "63/63 [==============================] - ETA: 0s - loss: 0.5837 - accuracy: 0.6903"
     ]
    },
    {
     "name": "stderr",
     "output_type": "stream",
     "text": [
      "Corrupt JPEG data: 214 extraneous bytes before marker 0xd9\n"
     ]
    },
    {
     "name": "stdout",
     "output_type": "stream",
     "text": [
      "INFO:tensorflow:Assets written to: assets/convnet_from_scratch/assets\n"
     ]
    },
    {
     "name": "stderr",
     "output_type": "stream",
     "text": [
      "INFO:tensorflow:Assets written to: assets/convnet_from_scratch/assets\n"
     ]
    },
    {
     "name": "stdout",
     "output_type": "stream",
     "text": [
      "63/63 [==============================] - 3s 53ms/step - loss: 0.5837 - accuracy: 0.6903 - val_loss: 0.6004 - val_accuracy: 0.6650\n",
      "Epoch 6/30\n",
      "63/63 [==============================] - ETA: 0s - loss: 0.5546 - accuracy: 0.7189"
     ]
    },
    {
     "name": "stderr",
     "output_type": "stream",
     "text": [
      "Corrupt JPEG data: 214 extraneous bytes before marker 0xd9\n"
     ]
    },
    {
     "name": "stdout",
     "output_type": "stream",
     "text": [
      "INFO:tensorflow:Assets written to: assets/convnet_from_scratch/assets\n"
     ]
    },
    {
     "name": "stderr",
     "output_type": "stream",
     "text": [
      "INFO:tensorflow:Assets written to: assets/convnet_from_scratch/assets\n"
     ]
    },
    {
     "name": "stdout",
     "output_type": "stream",
     "text": [
      "63/63 [==============================] - 4s 57ms/step - loss: 0.5546 - accuracy: 0.7189 - val_loss: 0.5840 - val_accuracy: 0.7080\n",
      "Epoch 7/30\n",
      "63/63 [==============================] - ETA: 0s - loss: 0.5242 - accuracy: 0.7399"
     ]
    },
    {
     "name": "stderr",
     "output_type": "stream",
     "text": [
      "Corrupt JPEG data: 214 extraneous bytes before marker 0xd9\n"
     ]
    },
    {
     "name": "stdout",
     "output_type": "stream",
     "text": [
      "63/63 [==============================] - 3s 46ms/step - loss: 0.5242 - accuracy: 0.7399 - val_loss: 0.6046 - val_accuracy: 0.7060\n",
      "Epoch 8/30\n",
      "63/63 [==============================] - ETA: 0s - loss: 0.4727 - accuracy: 0.7744"
     ]
    },
    {
     "name": "stderr",
     "output_type": "stream",
     "text": [
      "Corrupt JPEG data: 214 extraneous bytes before marker 0xd9\n"
     ]
    },
    {
     "name": "stdout",
     "output_type": "stream",
     "text": [
      "63/63 [==============================] - 3s 46ms/step - loss: 0.4727 - accuracy: 0.7744 - val_loss: 0.5999 - val_accuracy: 0.6970\n",
      "Epoch 9/30\n",
      "63/63 [==============================] - ETA: 0s - loss: 0.4336 - accuracy: 0.8054"
     ]
    },
    {
     "name": "stderr",
     "output_type": "stream",
     "text": [
      "Corrupt JPEG data: 214 extraneous bytes before marker 0xd9\n"
     ]
    },
    {
     "name": "stdout",
     "output_type": "stream",
     "text": [
      "63/63 [==============================] - 3s 46ms/step - loss: 0.4336 - accuracy: 0.8054 - val_loss: 0.6971 - val_accuracy: 0.7230\n",
      "Epoch 10/30\n",
      "63/63 [==============================] - ETA: 0s - loss: 0.3921 - accuracy: 0.8194"
     ]
    },
    {
     "name": "stderr",
     "output_type": "stream",
     "text": [
      "Corrupt JPEG data: 214 extraneous bytes before marker 0xd9\n"
     ]
    },
    {
     "name": "stdout",
     "output_type": "stream",
     "text": [
      "63/63 [==============================] - 3s 48ms/step - loss: 0.3921 - accuracy: 0.8194 - val_loss: 0.6302 - val_accuracy: 0.7130\n",
      "Epoch 11/30\n",
      "63/63 [==============================] - ETA: 0s - loss: 0.3514 - accuracy: 0.8459"
     ]
    },
    {
     "name": "stderr",
     "output_type": "stream",
     "text": [
      "Corrupt JPEG data: 214 extraneous bytes before marker 0xd9\n"
     ]
    },
    {
     "name": "stdout",
     "output_type": "stream",
     "text": [
      "63/63 [==============================] - 3s 49ms/step - loss: 0.3514 - accuracy: 0.8459 - val_loss: 0.7378 - val_accuracy: 0.6870\n",
      "Epoch 12/30\n",
      "63/63 [==============================] - ETA: 0s - loss: 0.2871 - accuracy: 0.8794"
     ]
    },
    {
     "name": "stderr",
     "output_type": "stream",
     "text": [
      "Corrupt JPEG data: 214 extraneous bytes before marker 0xd9\n"
     ]
    },
    {
     "name": "stdout",
     "output_type": "stream",
     "text": [
      "63/63 [==============================] - 3s 49ms/step - loss: 0.2871 - accuracy: 0.8794 - val_loss: 0.8850 - val_accuracy: 0.7190\n",
      "Epoch 13/30\n",
      "63/63 [==============================] - ETA: 0s - loss: 0.2414 - accuracy: 0.8984"
     ]
    },
    {
     "name": "stderr",
     "output_type": "stream",
     "text": [
      "Corrupt JPEG data: 214 extraneous bytes before marker 0xd9\n"
     ]
    },
    {
     "name": "stdout",
     "output_type": "stream",
     "text": [
      "63/63 [==============================] - 3s 47ms/step - loss: 0.2414 - accuracy: 0.8984 - val_loss: 0.8928 - val_accuracy: 0.7460\n",
      "Epoch 14/30\n",
      "63/63 [==============================] - ETA: 0s - loss: 0.2107 - accuracy: 0.9245"
     ]
    },
    {
     "name": "stderr",
     "output_type": "stream",
     "text": [
      "Corrupt JPEG data: 214 extraneous bytes before marker 0xd9\n"
     ]
    },
    {
     "name": "stdout",
     "output_type": "stream",
     "text": [
      "63/63 [==============================] - 3s 47ms/step - loss: 0.2107 - accuracy: 0.9245 - val_loss: 1.2883 - val_accuracy: 0.6570\n",
      "Epoch 15/30\n",
      "62/63 [============================>.] - ETA: 0s - loss: 0.1726 - accuracy: 0.9385"
     ]
    },
    {
     "name": "stderr",
     "output_type": "stream",
     "text": [
      "Corrupt JPEG data: 214 extraneous bytes before marker 0xd9\n"
     ]
    },
    {
     "name": "stdout",
     "output_type": "stream",
     "text": [
      "63/63 [==============================] - 3s 50ms/step - loss: 0.1714 - accuracy: 0.9390 - val_loss: 0.9914 - val_accuracy: 0.7240\n",
      "Epoch 16/30\n",
      "62/63 [============================>.] - ETA: 0s - loss: 0.1408 - accuracy: 0.9506"
     ]
    },
    {
     "name": "stderr",
     "output_type": "stream",
     "text": [
      "Corrupt JPEG data: 214 extraneous bytes before marker 0xd9\n"
     ]
    },
    {
     "name": "stdout",
     "output_type": "stream",
     "text": [
      "63/63 [==============================] - 3s 51ms/step - loss: 0.1408 - accuracy: 0.9505 - val_loss: 1.1279 - val_accuracy: 0.7340\n",
      "Epoch 17/30\n",
      "63/63 [==============================] - ETA: 0s - loss: 0.1242 - accuracy: 0.9560"
     ]
    },
    {
     "name": "stderr",
     "output_type": "stream",
     "text": [
      "Corrupt JPEG data: 214 extraneous bytes before marker 0xd9\n"
     ]
    },
    {
     "name": "stdout",
     "output_type": "stream",
     "text": [
      "63/63 [==============================] - 3s 47ms/step - loss: 0.1242 - accuracy: 0.9560 - val_loss: 1.2082 - val_accuracy: 0.7360\n",
      "Epoch 18/30\n",
      "63/63 [==============================] - ETA: 0s - loss: 0.1015 - accuracy: 0.9680"
     ]
    },
    {
     "name": "stderr",
     "output_type": "stream",
     "text": [
      "Corrupt JPEG data: 214 extraneous bytes before marker 0xd9\n"
     ]
    },
    {
     "name": "stdout",
     "output_type": "stream",
     "text": [
      "63/63 [==============================] - 3s 47ms/step - loss: 0.1015 - accuracy: 0.9680 - val_loss: 1.1419 - val_accuracy: 0.7170\n",
      "Epoch 19/30\n",
      "63/63 [==============================] - ETA: 0s - loss: 0.0703 - accuracy: 0.9795"
     ]
    },
    {
     "name": "stderr",
     "output_type": "stream",
     "text": [
      "Corrupt JPEG data: 214 extraneous bytes before marker 0xd9\n"
     ]
    },
    {
     "name": "stdout",
     "output_type": "stream",
     "text": [
      "63/63 [==============================] - 3s 46ms/step - loss: 0.0703 - accuracy: 0.9795 - val_loss: 1.2603 - val_accuracy: 0.7410\n",
      "Epoch 20/30\n",
      "63/63 [==============================] - ETA: 0s - loss: 0.0804 - accuracy: 0.9730"
     ]
    },
    {
     "name": "stderr",
     "output_type": "stream",
     "text": [
      "Corrupt JPEG data: 214 extraneous bytes before marker 0xd9\n"
     ]
    },
    {
     "name": "stdout",
     "output_type": "stream",
     "text": [
      "63/63 [==============================] - 3s 46ms/step - loss: 0.0804 - accuracy: 0.9730 - val_loss: 1.4967 - val_accuracy: 0.7090\n",
      "Epoch 21/30\n",
      "63/63 [==============================] - ETA: 0s - loss: 0.0725 - accuracy: 0.9800"
     ]
    },
    {
     "name": "stderr",
     "output_type": "stream",
     "text": [
      "Corrupt JPEG data: 214 extraneous bytes before marker 0xd9\n"
     ]
    },
    {
     "name": "stdout",
     "output_type": "stream",
     "text": [
      "63/63 [==============================] - 3s 46ms/step - loss: 0.0725 - accuracy: 0.9800 - val_loss: 1.6339 - val_accuracy: 0.7640\n",
      "Epoch 22/30\n",
      "63/63 [==============================] - ETA: 0s - loss: 0.0568 - accuracy: 0.9760"
     ]
    },
    {
     "name": "stderr",
     "output_type": "stream",
     "text": [
      "Corrupt JPEG data: 214 extraneous bytes before marker 0xd9\n"
     ]
    },
    {
     "name": "stdout",
     "output_type": "stream",
     "text": [
      "63/63 [==============================] - 3s 46ms/step - loss: 0.0568 - accuracy: 0.9760 - val_loss: 1.5116 - val_accuracy: 0.7430\n",
      "Epoch 23/30\n",
      "63/63 [==============================] - ETA: 0s - loss: 0.0497 - accuracy: 0.9805"
     ]
    },
    {
     "name": "stderr",
     "output_type": "stream",
     "text": [
      "Corrupt JPEG data: 214 extraneous bytes before marker 0xd9\n"
     ]
    },
    {
     "name": "stdout",
     "output_type": "stream",
     "text": [
      "63/63 [==============================] - 3s 46ms/step - loss: 0.0497 - accuracy: 0.9805 - val_loss: 2.2352 - val_accuracy: 0.7330\n",
      "Epoch 24/30\n",
      "63/63 [==============================] - ETA: 0s - loss: 0.0450 - accuracy: 0.9840"
     ]
    },
    {
     "name": "stderr",
     "output_type": "stream",
     "text": [
      "Corrupt JPEG data: 214 extraneous bytes before marker 0xd9\n"
     ]
    },
    {
     "name": "stdout",
     "output_type": "stream",
     "text": [
      "63/63 [==============================] - 3s 46ms/step - loss: 0.0450 - accuracy: 0.9840 - val_loss: 1.8599 - val_accuracy: 0.7400\n",
      "Epoch 25/30\n",
      "63/63 [==============================] - ETA: 0s - loss: 0.0424 - accuracy: 0.9865"
     ]
    },
    {
     "name": "stderr",
     "output_type": "stream",
     "text": [
      "Corrupt JPEG data: 214 extraneous bytes before marker 0xd9\n"
     ]
    },
    {
     "name": "stdout",
     "output_type": "stream",
     "text": [
      "63/63 [==============================] - 3s 46ms/step - loss: 0.0424 - accuracy: 0.9865 - val_loss: 2.3099 - val_accuracy: 0.7370\n",
      "Epoch 26/30\n",
      "63/63 [==============================] - ETA: 0s - loss: 0.0534 - accuracy: 0.9835"
     ]
    },
    {
     "name": "stderr",
     "output_type": "stream",
     "text": [
      "Corrupt JPEG data: 214 extraneous bytes before marker 0xd9\n"
     ]
    },
    {
     "name": "stdout",
     "output_type": "stream",
     "text": [
      "63/63 [==============================] - 3s 47ms/step - loss: 0.0534 - accuracy: 0.9835 - val_loss: 2.6449 - val_accuracy: 0.7250\n",
      "Epoch 27/30\n",
      "63/63 [==============================] - ETA: 0s - loss: 0.0521 - accuracy: 0.9840"
     ]
    },
    {
     "name": "stderr",
     "output_type": "stream",
     "text": [
      "Corrupt JPEG data: 214 extraneous bytes before marker 0xd9\n"
     ]
    },
    {
     "name": "stdout",
     "output_type": "stream",
     "text": [
      "63/63 [==============================] - 3s 47ms/step - loss: 0.0521 - accuracy: 0.9840 - val_loss: 1.8578 - val_accuracy: 0.7540\n",
      "Epoch 28/30\n",
      "63/63 [==============================] - ETA: 0s - loss: 0.0539 - accuracy: 0.9825"
     ]
    },
    {
     "name": "stderr",
     "output_type": "stream",
     "text": [
      "Corrupt JPEG data: 214 extraneous bytes before marker 0xd9\n"
     ]
    },
    {
     "name": "stdout",
     "output_type": "stream",
     "text": [
      "63/63 [==============================] - 3s 46ms/step - loss: 0.0539 - accuracy: 0.9825 - val_loss: 2.1306 - val_accuracy: 0.7230\n",
      "Epoch 29/30\n",
      "63/63 [==============================] - ETA: 0s - loss: 0.0562 - accuracy: 0.9815"
     ]
    },
    {
     "name": "stderr",
     "output_type": "stream",
     "text": [
      "Corrupt JPEG data: 214 extraneous bytes before marker 0xd9\n"
     ]
    },
    {
     "name": "stdout",
     "output_type": "stream",
     "text": [
      "63/63 [==============================] - 3s 46ms/step - loss: 0.0562 - accuracy: 0.9815 - val_loss: 1.8994 - val_accuracy: 0.7450\n",
      "Epoch 30/30\n",
      "63/63 [==============================] - ETA: 0s - loss: 0.0611 - accuracy: 0.9910"
     ]
    },
    {
     "name": "stderr",
     "output_type": "stream",
     "text": [
      "Corrupt JPEG data: 214 extraneous bytes before marker 0xd9\n"
     ]
    },
    {
     "name": "stdout",
     "output_type": "stream",
     "text": [
      "63/63 [==============================] - 3s 47ms/step - loss: 0.0611 - accuracy: 0.9910 - val_loss: 1.9940 - val_accuracy: 0.7400\n"
     ]
    }
   ],
   "source": [
    "callbacks = [\n",
    "    keras.callbacks.ModelCheckpoint(\n",
    "        filepath=\"assets/convnet_from_scratch\",\n",
    "        save_best_only=True,\n",
    "        monitor=\"val_loss\"\n",
    "    )\n",
    "]\n",
    "history = model.fit(\n",
    "    clean_train_dataset,\n",
    "    epochs=30,\n",
    "    validation_data=clean_val_dataset,\n",
    "    callbacks=callbacks\n",
    ")"
   ]
  },
  {
   "cell_type": "code",
   "execution_count": 71,
   "id": "6d57ec45-f1c4-480c-9eb5-d6ac40dbf4c6",
   "metadata": {},
   "outputs": [
    {
     "data": {
      "image/png": "[encoded data removed]",
      "text/plain": [
       "<Figure size 640x480 with 1 Axes>"
      ]
     },
     "metadata": {},
     "output_type": "display_data"
    },
    {
     "data": {
      "image/png": "[encoded data removed]",
      "text/plain": [
       "<Figure size 640x480 with 1 Axes>"
      ]
     },
     "metadata": {},
     "output_type": "display_data"
    }
   ],
   "source": [
    "import matplotlib.pyplot as plt\n",
    "accuracy = history.history[\"accuracy\"]\n",
    "val_accuracy = history.history[\"val_accuracy\"]\n",
    "loss = history.history['loss']\n",
    "val_loss = history.history['val_loss']\n",
    "epochs = range(1, len(accuracy) + 1)\n",
    "plt.plot(epochs, accuracy, \"bo\", label=\"T-acc\")\n",
    "plt.plot(epochs, val_accuracy, \"go\", label=\"V-acc\")\n",
    "plt.title(\"Accuracy\")\n",
    "plt.legend()\n",
    "plt.figure()\n",
    "plt.plot(epochs, loss, \"bo\", label=\"T-loss\")\n",
    "plt.plot(epochs, val_loss, \"go\", label=\"V-loss\")\n",
    "plt.title(\"Loss\")\n",
    "plt.legend()\n",
    "plt.show()"
   ]
  },
  {
   "cell_type": "code",
   "execution_count": 74,
   "id": "8ca4baaa-a87a-44b9-bd17-9fce98b224c6",
   "metadata": {},
   "outputs": [
    {
     "ename": "InvalidArgumentError",
     "evalue": "Graph execution error:\n\nDetected at node decode_image/DecodeImage defined at (most recent call last):\n<stack traces unavailable>\nDetected at node decode_image/DecodeImage defined at (most recent call last):\n<stack traces unavailable>\n2 root error(s) found.\n  (0) INVALID_ARGUMENT:  Input size should match (header_size + row_size * abs_height) but they differ by 2\n\t [[{{node decode_image/DecodeImage}}]]\n\t [[IteratorGetNext]]\n\t [[IteratorGetNext/_2]]\n  (1) INVALID_ARGUMENT:  Input size should match (header_size + row_size * abs_height) but they differ by 2\n\t [[{{node decode_image/DecodeImage}}]]\n\t [[IteratorGetNext]]\n0 successful operations.\n0 derived errors ignored. [Op:__inference_test_function_73722]",
     "output_type": "error",
     "traceback": [
      "\u001b[0;31m---------------------------------------------------------------------------\u001b[0m",
      "\u001b[0;31mInvalidArgumentError\u001b[0m                      Traceback (most recent call last)",
      "Cell \u001b[0;32mIn[74], line 2\u001b[0m\n\u001b[1;32m      1\u001b[0m test_model \u001b[38;5;241m=\u001b[39m keras\u001b[38;5;241m.\u001b[39mmodels\u001b[38;5;241m.\u001b[39mload_model(\u001b[38;5;124m\"\u001b[39m\u001b[38;5;124massets/convnet_from_scratch\u001b[39m\u001b[38;5;124m\"\u001b[39m)\n\u001b[0;32m----> 2\u001b[0m test_loss, test_acc \u001b[38;5;241m=\u001b[39m \u001b[43mtest_model\u001b[49m\u001b[38;5;241;43m.\u001b[39;49m\u001b[43mevaluate\u001b[49m\u001b[43m(\u001b[49m\u001b[43mtest_dataset\u001b[49m\u001b[43m)\u001b[49m\n",
      "File \u001b[0;32m~/Code/Personal/dlwp/venv/lib/python3.10/site-packages/keras/src/utils/traceback_utils.py:70\u001b[0m, in \u001b[0;36mfilter_traceback.<locals>.error_handler\u001b[0;34m(*args, **kwargs)\u001b[0m\n\u001b[1;32m     67\u001b[0m     filtered_tb \u001b[38;5;241m=\u001b[39m _process_traceback_frames(e\u001b[38;5;241m.\u001b[39m__traceback__)\n\u001b[1;32m     68\u001b[0m     \u001b[38;5;66;03m# To get the full stack trace, call:\u001b[39;00m\n\u001b[1;32m     69\u001b[0m     \u001b[38;5;66;03m# `tf.debugging.disable_traceback_filtering()`\u001b[39;00m\n\u001b[0;32m---> 70\u001b[0m     \u001b[38;5;28;01mraise\u001b[39;00m e\u001b[38;5;241m.\u001b[39mwith_traceback(filtered_tb) \u001b[38;5;28;01mfrom\u001b[39;00m \u001b[38;5;28;01mNone\u001b[39;00m\n\u001b[1;32m     71\u001b[0m \u001b[38;5;28;01mfinally\u001b[39;00m:\n\u001b[1;32m     72\u001b[0m     \u001b[38;5;28;01mdel\u001b[39;00m filtered_tb\n",
      "File \u001b[0;32m~/Code/Personal/dlwp/venv/lib/python3.10/site-packages/tensorflow/python/eager/execute.py:60\u001b[0m, in \u001b[0;36mquick_execute\u001b[0;34m(op_name, num_outputs, inputs, attrs, ctx, name)\u001b[0m\n\u001b[1;32m     53\u001b[0m   \u001b[38;5;66;03m# Convert any objects of type core_types.Tensor to Tensor.\u001b[39;00m\n\u001b[1;32m     54\u001b[0m   inputs \u001b[38;5;241m=\u001b[39m [\n\u001b[1;32m     55\u001b[0m       tensor_conversion_registry\u001b[38;5;241m.\u001b[39mconvert(t)\n\u001b[1;32m     56\u001b[0m       \u001b[38;5;28;01mif\u001b[39;00m \u001b[38;5;28misinstance\u001b[39m(t, core_types\u001b[38;5;241m.\u001b[39mTensor)\n\u001b[1;32m     57\u001b[0m       \u001b[38;5;28;01melse\u001b[39;00m t\n\u001b[1;32m     58\u001b[0m       \u001b[38;5;28;01mfor\u001b[39;00m t \u001b[38;5;129;01min\u001b[39;00m inputs\n\u001b[1;32m     59\u001b[0m   ]\n\u001b[0;32m---> 60\u001b[0m   tensors \u001b[38;5;241m=\u001b[39m pywrap_tfe\u001b[38;5;241m.\u001b[39mTFE_Py_Execute(ctx\u001b[38;5;241m.\u001b[39m_handle, device_name, op_name,\n\u001b[1;32m     61\u001b[0m                                       inputs, attrs, num_outputs)\n\u001b[1;32m     62\u001b[0m \u001b[38;5;28;01mexcept\u001b[39;00m core\u001b[38;5;241m.\u001b[39m_NotOkStatusException \u001b[38;5;28;01mas\u001b[39;00m e:\n\u001b[1;32m     63\u001b[0m   \u001b[38;5;28;01mif\u001b[39;00m name \u001b[38;5;129;01mis\u001b[39;00m \u001b[38;5;129;01mnot\u001b[39;00m \u001b[38;5;28;01mNone\u001b[39;00m:\n",
      "\u001b[0;31mInvalidArgumentError\u001b[0m: Graph execution error:\n\nDetected at node decode_image/DecodeImage defined at (most recent call last):\n<stack traces unavailable>\nDetected at node decode_image/DecodeImage defined at (most recent call last):\n<stack traces unavailable>\n2 root error(s) found.\n  (0) INVALID_ARGUMENT:  Input size should match (header_size + row_size * abs_height) but they differ by 2\n\t [[{{node decode_image/DecodeImage}}]]\n\t [[IteratorGetNext]]\n\t [[IteratorGetNext/_2]]\n  (1) INVALID_ARGUMENT:  Input size should match (header_size + row_size * abs_height) but they differ by 2\n\t [[{{node decode_image/DecodeImage}}]]\n\t [[IteratorGetNext]]\n0 successful operations.\n0 derived errors ignored. [Op:__inference_test_function_73722]"
     ]
    }
   ],
   "source": [
    "test_model = keras.models.load_model(\"assets/convnet_from_scratch\")\n",
    "test_loss, test_acc = test_model.evaluate(test_dataset)"
   ]
  },
  {
   "cell_type": "code",
   "execution_count": 55,
   "id": "c6537a85-b672-4a5d-811a-4c842ef7a063",
   "metadata": {},
   "outputs": [
    {
     "data": {
      "text/plain": [
       "[]"
      ]
     },
     "execution_count": 55,
     "metadata": {},
     "output_type": "execute_result"
    }
   ],
   "source": [
    "validate_jpeg_files(\"./../data/PetImages/cat_vs_dog_small\")"
   ]
  }
 ],
 "metadata": {
  "kernelspec": {
   "display_name": "Python 3 (ipykernel)",
   "language": "python",
   "name": "python3"
  },
  "language_info": {
   "codemirror_mode": {
    "name": "ipython",
    "version": 3
   },
   "file_extension": ".py",
   "mimetype": "text/x-python",
   "name": "python",
   "nbconvert_exporter": "python",
   "pygments_lexer": "ipython3",
   "version": "3.10.15"
  }
 },
 "nbformat": 4,
 "nbformat_minor": 5
}
