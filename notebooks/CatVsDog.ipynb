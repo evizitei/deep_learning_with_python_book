{
 "cells": [
  {
   "cell_type": "code",
   "execution_count": 9,
   "id": "62d8cfad-ae2f-46f8-8d96-6cf30995cbc1",
   "metadata": {},
   "outputs": [
    {
     "data": {
      "text/plain": [
       "['Cat', 'cat_vs_dogs_small', 'Dog', 'cat_vs_dog_small']"
      ]
     },
     "execution_count": 9,
     "metadata": {},
     "output_type": "execute_result"
    }
   ],
   "source": [
    "# dataset prep one time\n",
    "import os, shutil, pathlib\n",
    "original_dir = pathlib.Path(\"./../data/PetImages\")\n",
    "new_basedir = pathlib.Path(\"./../data/PetImages/cat_vs_dog_small\")\n",
    "\n",
    "def make_subset(subset_name, start_index, end_index):\n",
    "    for category in (\"cat\", \"dog\"):\n",
    "        newdir = new_basedir / subset_name / category\n",
    "        os.makedirs(newdir, exist_ok=True)\n",
    "        fnames = [f\"{i}.jpg\" for i in range(start_index, end_index)]\n",
    "        for fname in fnames:\n",
    "            shutil.copyfile(src= original_dir / category / fname,\n",
    "                            dst = newdir / f\"{fname}\")\n",
    "\n",
    "os.listdir(original_dir)"
   ]
  },
  {
   "cell_type": "code",
   "execution_count": 11,
   "id": "d654fe97-a1d7-42a1-883f-1638d840b8e9",
   "metadata": {},
   "outputs": [],
   "source": [
    "make_subset(\"train\", start_index=0, end_index=1000)\n",
    "make_subset(\"validation\", start_index=1000, end_index=1500)\n",
    "make_subset(\"test\", start_index=1500, end_index=2500)"
   ]
  },
  {
   "cell_type": "code",
   "execution_count": 56,
   "id": "2d625314-caa5-41d7-bfa8-c3f73f22878f",
   "metadata": {},
   "outputs": [],
   "source": [
    "from tensorflow import keras\n",
    "from tensorflow.keras import layers\n",
    "\n",
    "inputs = keras.Input(shape=(180, 180, 3))\n",
    "x = layers.Rescaling(1./255)(inputs)\n",
    "x = layers.Conv2D(filters=32, kernel_size=3, activation=\"relu\")(x)\n",
    "x = layers.MaxPooling2D(pool_size=2)(x)\n",
    "x = layers.Conv2D(filters=64, kernel_size=3, activation=\"relu\")(x)\n",
    "x = layers.MaxPooling2D(pool_size=2)(x)\n",
    "x = layers.Conv2D(filters=128, kernel_size=3, activation=\"relu\")(x)\n",
    "x = layers.MaxPooling2D(pool_size=2)(x)\n",
    "x = layers.Conv2D(filters=256, kernel_size=3, activation=\"relu\")(x)\n",
    "x = layers.MaxPooling2D(pool_size=2)(x)\n",
    "x = layers.Conv2D(filters=256, kernel_size=3, activation=\"relu\")(x)\n",
    "x = layers.Flatten()(x)\n",
    "outputs = layers.Dense(1, activation=\"sigmoid\")(x)\n",
    "model = keras.Model(inputs=inputs, outputs=outputs)"
   ]
  },
  {
   "cell_type": "code",
   "execution_count": 57,
   "id": "68112faf-3337-4053-939a-70a66e5165e3",
   "metadata": {},
   "outputs": [
    {
     "name": "stdout",
     "output_type": "stream",
     "text": [
      "Model: \"model_3\"\n",
      "_________________________________________________________________\n",
      " Layer (type)                Output Shape              Param #   \n",
      "=================================================================\n",
      " input_5 (InputLayer)        [(None, 180, 180, 3)]     0         \n",
      "                                                                 \n",
      " rescaling_4 (Rescaling)     (None, 180, 180, 3)       0         \n",
      "                                                                 \n",
      " conv2d_20 (Conv2D)          (None, 178, 178, 32)      896       \n",
      "                                                                 \n",
      " max_pooling2d_16 (MaxPooli  (None, 89, 89, 32)        0         \n",
      " ng2D)                                                           \n",
      "                                                                 \n",
      " conv2d_21 (Conv2D)          (None, 87, 87, 64)        18496     \n",
      "                                                                 \n",
      " max_pooling2d_17 (MaxPooli  (None, 43, 43, 64)        0         \n",
      " ng2D)                                                           \n",
      "                                                                 \n",
      " conv2d_22 (Conv2D)          (None, 41, 41, 128)       73856     \n",
      "                                                                 \n",
      " max_pooling2d_18 (MaxPooli  (None, 20, 20, 128)       0         \n",
      " ng2D)                                                           \n",
      "                                                                 \n",
      " conv2d_23 (Conv2D)          (None, 18, 18, 256)       295168    \n",
      "                                                                 \n",
      " max_pooling2d_19 (MaxPooli  (None, 9, 9, 256)         0         \n",
      " ng2D)                                                           \n",
      "                                                                 \n",
      " conv2d_24 (Conv2D)          (None, 7, 7, 256)         590080    \n",
      "                                                                 \n",
      " flatten_2 (Flatten)         (None, 12544)             0         \n",
      "                                                                 \n",
      " dense_4 (Dense)             (None, 1)                 12545     \n",
      "                                                                 \n",
      "=================================================================\n",
      "Total params: 991041 (3.78 MB)\n",
      "Trainable params: 991041 (3.78 MB)\n",
      "Non-trainable params: 0 (0.00 Byte)\n",
      "_________________________________________________________________\n"
     ]
    }
   ],
   "source": [
    "model.summary()"
   ]
  },
  {
   "cell_type": "code",
   "execution_count": 58,
   "id": "fec93865-fcdf-4912-a261-f34750241ea2",
   "metadata": {},
   "outputs": [],
   "source": [
    "model.compile(loss=\"binary_crossentropy\", optimizer=\"rmsprop\", metrics=[\"accuracy\"])"
   ]
  },
  {
   "cell_type": "code",
   "execution_count": 59,
   "id": "f1ca29e4-b63d-4328-b315-0fedc8bce60a",
   "metadata": {},
   "outputs": [
    {
     "name": "stdout",
     "output_type": "stream",
     "text": [
      "Found 1999 files belonging to 2 classes.\n",
      "Found 1000 files belonging to 2 classes.\n",
      "Found 2000 files belonging to 2 classes.\n"
     ]
    }
   ],
   "source": [
    "from tensorflow.keras.utils import image_dataset_from_directory\n",
    "train_dataset = image_dataset_from_directory(\n",
    "    new_basedir / \"train\",\n",
    "    image_size=(180, 180),\n",
    "    batch_size=32\n",
    ")\n",
    "val_dataset = image_dataset_from_directory(\n",
    "    new_basedir / \"validation\",\n",
    "    image_size=(180, 180),\n",
    "    batch_size=32\n",
    ")\n",
    "\n",
    "test_dataset = image_dataset_from_directory(\n",
    "    new_basedir / \"test\",\n",
    "    image_size=(180, 180),\n",
    "    batch_size=32\n",
    ")"
   ]
  },
  {
   "cell_type": "code",
   "execution_count": 60,
   "id": "e1149788-7a1a-47c9-a3b0-212bb83504f5",
   "metadata": {},
   "outputs": [],
   "source": [
    "clean_train_dataset = train_dataset.ignore_errors()\n",
    "clean_val_dataset = val_dataset.ignore_errors()\n",
    "clean_test_dataset = test_dataset.ignore_errors()\n"
   ]
  },
  {
   "cell_type": "code",
   "execution_count": 64,
   "id": "fbd03333-c017-44eb-9007-4201410144b3",
   "metadata": {},
   "outputs": [
    {
     "name": "stdout",
     "output_type": "stream",
     "text": [
      "Epoch 1/30\n",
      "     63/Unknown - 3s 39ms/step - loss: 0.5618 - accuracy: 0.7224"
     ]
    },
    {
     "name": "stderr",
     "output_type": "stream",
     "text": [
      "Corrupt JPEG data: 214 extraneous bytes before marker 0xd9\n"
     ]
    },
    {
     "name": "stdout",
     "output_type": "stream",
     "text": [
      "INFO:tensorflow:Assets written to: convnet_from_scratch/assets\n"
     ]
    },
    {
     "name": "stderr",
     "output_type": "stream",
     "text": [
      "INFO:tensorflow:Assets written to: convnet_from_scratch/assets\n"
     ]
    },
    {
     "name": "stdout",
     "output_type": "stream",
     "text": [
      "63/63 [==============================] - 3s 51ms/step - loss: 0.5618 - accuracy: 0.7224 - val_loss: 0.6004 - val_accuracy: 0.6570\n",
      "Epoch 2/30\n",
      "63/63 [==============================] - ETA: 0s - loss: 0.5333 - accuracy: 0.7394"
     ]
    },
    {
     "name": "stderr",
     "output_type": "stream",
     "text": [
      "Corrupt JPEG data: 214 extraneous bytes before marker 0xd9\n"
     ]
    },
    {
     "name": "stdout",
     "output_type": "stream",
     "text": [
      "63/63 [==============================] - 3s 46ms/step - loss: 0.5333 - accuracy: 0.7394 - val_loss: 0.6560 - val_accuracy: 0.6680\n",
      "Epoch 3/30\n",
      "63/63 [==============================] - ETA: 0s - loss: 0.4928 - accuracy: 0.7549"
     ]
    },
    {
     "name": "stderr",
     "output_type": "stream",
     "text": [
      "Corrupt JPEG data: 214 extraneous bytes before marker 0xd9\n"
     ]
    },
    {
     "name": "stdout",
     "output_type": "stream",
     "text": [
      "63/63 [==============================] - 3s 46ms/step - loss: 0.4928 - accuracy: 0.7549 - val_loss: 0.6143 - val_accuracy: 0.6810\n",
      "Epoch 4/30\n",
      "63/63 [==============================] - ETA: 0s - loss: 0.4651 - accuracy: 0.7904"
     ]
    },
    {
     "name": "stderr",
     "output_type": "stream",
     "text": [
      "Corrupt JPEG data: 214 extraneous bytes before marker 0xd9\n"
     ]
    },
    {
     "name": "stdout",
     "output_type": "stream",
     "text": [
      "INFO:tensorflow:Assets written to: convnet_from_scratch/assets\n"
     ]
    },
    {
     "name": "stderr",
     "output_type": "stream",
     "text": [
      "INFO:tensorflow:Assets written to: convnet_from_scratch/assets\n"
     ]
    },
    {
     "name": "stdout",
     "output_type": "stream",
     "text": [
      "63/63 [==============================] - 3s 50ms/step - loss: 0.4651 - accuracy: 0.7904 - val_loss: 0.5618 - val_accuracy: 0.7200\n",
      "Epoch 5/30\n",
      "63/63 [==============================] - ETA: 0s - loss: 0.4080 - accuracy: 0.8134"
     ]
    },
    {
     "name": "stderr",
     "output_type": "stream",
     "text": [
      "Corrupt JPEG data: 214 extraneous bytes before marker 0xd9\n"
     ]
    },
    {
     "name": "stdout",
     "output_type": "stream",
     "text": [
      "63/63 [==============================] - 3s 46ms/step - loss: 0.4080 - accuracy: 0.8134 - val_loss: 0.6922 - val_accuracy: 0.6900\n",
      "Epoch 6/30\n",
      "63/63 [==============================] - ETA: 0s - loss: 0.3667 - accuracy: 0.8339"
     ]
    },
    {
     "name": "stderr",
     "output_type": "stream",
     "text": [
      "Corrupt JPEG data: 214 extraneous bytes before marker 0xd9\n"
     ]
    },
    {
     "name": "stdout",
     "output_type": "stream",
     "text": [
      "63/63 [==============================] - 3s 47ms/step - loss: 0.3667 - accuracy: 0.8339 - val_loss: 0.6581 - val_accuracy: 0.6950\n",
      "Epoch 7/30\n",
      "63/63 [==============================] - ETA: 0s - loss: 0.3111 - accuracy: 0.8724"
     ]
    },
    {
     "name": "stderr",
     "output_type": "stream",
     "text": [
      "Corrupt JPEG data: 214 extraneous bytes before marker 0xd9\n"
     ]
    },
    {
     "name": "stdout",
     "output_type": "stream",
     "text": [
      "63/63 [==============================] - 3s 48ms/step - loss: 0.3111 - accuracy: 0.8724 - val_loss: 0.7246 - val_accuracy: 0.7240\n",
      "Epoch 8/30\n",
      "63/63 [==============================] - ETA: 0s - loss: 0.2624 - accuracy: 0.8884"
     ]
    },
    {
     "name": "stderr",
     "output_type": "stream",
     "text": [
      "Corrupt JPEG data: 214 extraneous bytes before marker 0xd9\n"
     ]
    },
    {
     "name": "stdout",
     "output_type": "stream",
     "text": [
      "63/63 [==============================] - 3s 48ms/step - loss: 0.2624 - accuracy: 0.8884 - val_loss: 0.8313 - val_accuracy: 0.7330\n",
      "Epoch 9/30\n",
      "63/63 [==============================] - ETA: 0s - loss: 0.2112 - accuracy: 0.9145"
     ]
    },
    {
     "name": "stderr",
     "output_type": "stream",
     "text": [
      "Corrupt JPEG data: 214 extraneous bytes before marker 0xd9\n"
     ]
    },
    {
     "name": "stdout",
     "output_type": "stream",
     "text": [
      "63/63 [==============================] - 3s 48ms/step - loss: 0.2112 - accuracy: 0.9145 - val_loss: 0.8317 - val_accuracy: 0.7300\n",
      "Epoch 10/30\n",
      "63/63 [==============================] - ETA: 0s - loss: 0.1926 - accuracy: 0.9295"
     ]
    },
    {
     "name": "stderr",
     "output_type": "stream",
     "text": [
      "Corrupt JPEG data: 214 extraneous bytes before marker 0xd9\n"
     ]
    },
    {
     "name": "stdout",
     "output_type": "stream",
     "text": [
      "63/63 [==============================] - 3s 46ms/step - loss: 0.1926 - accuracy: 0.9295 - val_loss: 0.9052 - val_accuracy: 0.7320\n",
      "Epoch 11/30\n",
      "63/63 [==============================] - ETA: 0s - loss: 0.1456 - accuracy: 0.9475"
     ]
    },
    {
     "name": "stderr",
     "output_type": "stream",
     "text": [
      "Corrupt JPEG data: 214 extraneous bytes before marker 0xd9\n"
     ]
    },
    {
     "name": "stdout",
     "output_type": "stream",
     "text": [
      "63/63 [==============================] - 3s 46ms/step - loss: 0.1456 - accuracy: 0.9475 - val_loss: 0.9356 - val_accuracy: 0.7370\n",
      "Epoch 12/30\n",
      "63/63 [==============================] - ETA: 0s - loss: 0.1097 - accuracy: 0.9610"
     ]
    },
    {
     "name": "stderr",
     "output_type": "stream",
     "text": [
      "Corrupt JPEG data: 214 extraneous bytes before marker 0xd9\n"
     ]
    },
    {
     "name": "stdout",
     "output_type": "stream",
     "text": [
      "63/63 [==============================] - 3s 46ms/step - loss: 0.1097 - accuracy: 0.9610 - val_loss: 0.9947 - val_accuracy: 0.7370\n",
      "Epoch 13/30\n",
      "63/63 [==============================] - ETA: 0s - loss: 0.1178 - accuracy: 0.9605"
     ]
    },
    {
     "name": "stderr",
     "output_type": "stream",
     "text": [
      "Corrupt JPEG data: 214 extraneous bytes before marker 0xd9\n"
     ]
    },
    {
     "name": "stdout",
     "output_type": "stream",
     "text": [
      "63/63 [==============================] - 3s 48ms/step - loss: 0.1178 - accuracy: 0.9605 - val_loss: 1.1305 - val_accuracy: 0.7210\n",
      "Epoch 14/30\n",
      "63/63 [==============================] - ETA: 0s - loss: 0.0908 - accuracy: 0.9675"
     ]
    },
    {
     "name": "stderr",
     "output_type": "stream",
     "text": [
      "Corrupt JPEG data: 214 extraneous bytes before marker 0xd9\n"
     ]
    },
    {
     "name": "stdout",
     "output_type": "stream",
     "text": [
      "63/63 [==============================] - 3s 48ms/step - loss: 0.0908 - accuracy: 0.9675 - val_loss: 1.3155 - val_accuracy: 0.7270\n",
      "Epoch 15/30\n",
      "63/63 [==============================] - ETA: 0s - loss: 0.0546 - accuracy: 0.9825"
     ]
    },
    {
     "name": "stderr",
     "output_type": "stream",
     "text": [
      "Corrupt JPEG data: 214 extraneous bytes before marker 0xd9\n"
     ]
    },
    {
     "name": "stdout",
     "output_type": "stream",
     "text": [
      "63/63 [==============================] - 3s 48ms/step - loss: 0.0546 - accuracy: 0.9825 - val_loss: 1.5961 - val_accuracy: 0.7380\n",
      "Epoch 16/30\n",
      "62/63 [============================>.] - ETA: 0s - loss: 0.0771 - accuracy: 0.9698"
     ]
    },
    {
     "name": "stderr",
     "output_type": "stream",
     "text": [
      "Corrupt JPEG data: 214 extraneous bytes before marker 0xd9\n"
     ]
    },
    {
     "name": "stdout",
     "output_type": "stream",
     "text": [
      "63/63 [==============================] - 3s 47ms/step - loss: 0.0766 - accuracy: 0.9700 - val_loss: 1.7593 - val_accuracy: 0.7350\n",
      "Epoch 17/30\n",
      "63/63 [==============================] - ETA: 0s - loss: 0.0802 - accuracy: 0.9750"
     ]
    },
    {
     "name": "stderr",
     "output_type": "stream",
     "text": [
      "Corrupt JPEG data: 214 extraneous bytes before marker 0xd9\n"
     ]
    },
    {
     "name": "stdout",
     "output_type": "stream",
     "text": [
      "63/63 [==============================] - 3s 49ms/step - loss: 0.0802 - accuracy: 0.9750 - val_loss: 1.9248 - val_accuracy: 0.7070\n",
      "Epoch 18/30\n",
      "63/63 [==============================] - ETA: 0s - loss: 0.0513 - accuracy: 0.9805"
     ]
    },
    {
     "name": "stderr",
     "output_type": "stream",
     "text": [
      "Corrupt JPEG data: 214 extraneous bytes before marker 0xd9\n"
     ]
    },
    {
     "name": "stdout",
     "output_type": "stream",
     "text": [
      "63/63 [==============================] - 3s 47ms/step - loss: 0.0513 - accuracy: 0.9805 - val_loss: 1.6845 - val_accuracy: 0.6930\n",
      "Epoch 19/30\n",
      "63/63 [==============================] - ETA: 0s - loss: 0.0596 - accuracy: 0.9815"
     ]
    },
    {
     "name": "stderr",
     "output_type": "stream",
     "text": [
      "Corrupt JPEG data: 214 extraneous bytes before marker 0xd9\n"
     ]
    },
    {
     "name": "stdout",
     "output_type": "stream",
     "text": [
      "63/63 [==============================] - 3s 48ms/step - loss: 0.0596 - accuracy: 0.9815 - val_loss: 1.8533 - val_accuracy: 0.7460\n",
      "Epoch 20/30\n",
      "63/63 [==============================] - ETA: 0s - loss: 0.0830 - accuracy: 0.9780"
     ]
    },
    {
     "name": "stderr",
     "output_type": "stream",
     "text": [
      "Corrupt JPEG data: 214 extraneous bytes before marker 0xd9\n"
     ]
    },
    {
     "name": "stdout",
     "output_type": "stream",
     "text": [
      "63/63 [==============================] - 3s 48ms/step - loss: 0.0830 - accuracy: 0.9780 - val_loss: 3.3728 - val_accuracy: 0.6830\n",
      "Epoch 21/30\n",
      "62/63 [============================>.] - ETA: 0s - loss: 0.0822 - accuracy: 0.9783"
     ]
    },
    {
     "name": "stderr",
     "output_type": "stream",
     "text": [
      "Corrupt JPEG data: 214 extraneous bytes before marker 0xd9\n"
     ]
    },
    {
     "name": "stdout",
     "output_type": "stream",
     "text": [
      "63/63 [==============================] - 3s 48ms/step - loss: 0.0816 - accuracy: 0.9785 - val_loss: 1.5762 - val_accuracy: 0.7450\n",
      "Epoch 22/30\n",
      "63/63 [==============================] - ETA: 0s - loss: 0.0395 - accuracy: 0.9865"
     ]
    },
    {
     "name": "stderr",
     "output_type": "stream",
     "text": [
      "Corrupt JPEG data: 214 extraneous bytes before marker 0xd9\n"
     ]
    },
    {
     "name": "stdout",
     "output_type": "stream",
     "text": [
      "63/63 [==============================] - 3s 46ms/step - loss: 0.0395 - accuracy: 0.9865 - val_loss: 1.7299 - val_accuracy: 0.7430\n",
      "Epoch 23/30\n",
      "63/63 [==============================] - ETA: 0s - loss: 0.0461 - accuracy: 0.9815"
     ]
    },
    {
     "name": "stderr",
     "output_type": "stream",
     "text": [
      "Corrupt JPEG data: 214 extraneous bytes before marker 0xd9\n"
     ]
    },
    {
     "name": "stdout",
     "output_type": "stream",
     "text": [
      "63/63 [==============================] - 3s 46ms/step - loss: 0.0461 - accuracy: 0.9815 - val_loss: 1.9618 - val_accuracy: 0.7160\n",
      "Epoch 24/30\n",
      "63/63 [==============================] - ETA: 0s - loss: 0.0405 - accuracy: 0.9850"
     ]
    },
    {
     "name": "stderr",
     "output_type": "stream",
     "text": [
      "Corrupt JPEG data: 214 extraneous bytes before marker 0xd9\n"
     ]
    },
    {
     "name": "stdout",
     "output_type": "stream",
     "text": [
      "63/63 [==============================] - 3s 47ms/step - loss: 0.0405 - accuracy: 0.9850 - val_loss: 1.8970 - val_accuracy: 0.7460\n",
      "Epoch 25/30\n",
      "63/63 [==============================] - ETA: 0s - loss: 0.0546 - accuracy: 0.9840"
     ]
    },
    {
     "name": "stderr",
     "output_type": "stream",
     "text": [
      "Corrupt JPEG data: 214 extraneous bytes before marker 0xd9\n"
     ]
    },
    {
     "name": "stdout",
     "output_type": "stream",
     "text": [
      "63/63 [==============================] - 3s 48ms/step - loss: 0.0546 - accuracy: 0.9840 - val_loss: 1.8839 - val_accuracy: 0.7410\n",
      "Epoch 26/30\n",
      "63/63 [==============================] - ETA: 0s - loss: 0.0395 - accuracy: 0.9885"
     ]
    },
    {
     "name": "stderr",
     "output_type": "stream",
     "text": [
      "Corrupt JPEG data: 214 extraneous bytes before marker 0xd9\n"
     ]
    },
    {
     "name": "stdout",
     "output_type": "stream",
     "text": [
      "63/63 [==============================] - 3s 48ms/step - loss: 0.0395 - accuracy: 0.9885 - val_loss: 2.7042 - val_accuracy: 0.7000\n",
      "Epoch 27/30\n",
      "63/63 [==============================] - ETA: 0s - loss: 0.0657 - accuracy: 0.9815"
     ]
    },
    {
     "name": "stderr",
     "output_type": "stream",
     "text": [
      "Corrupt JPEG data: 214 extraneous bytes before marker 0xd9\n"
     ]
    },
    {
     "name": "stdout",
     "output_type": "stream",
     "text": [
      "63/63 [==============================] - 3s 48ms/step - loss: 0.0657 - accuracy: 0.9815 - val_loss: 2.2242 - val_accuracy: 0.7360\n",
      "Epoch 28/30\n",
      "63/63 [==============================] - ETA: 0s - loss: 0.0527 - accuracy: 0.9815"
     ]
    },
    {
     "name": "stderr",
     "output_type": "stream",
     "text": [
      "Corrupt JPEG data: 214 extraneous bytes before marker 0xd9\n"
     ]
    },
    {
     "name": "stdout",
     "output_type": "stream",
     "text": [
      "63/63 [==============================] - 3s 46ms/step - loss: 0.0527 - accuracy: 0.9815 - val_loss: 2.5227 - val_accuracy: 0.7390\n",
      "Epoch 29/30\n",
      "63/63 [==============================] - ETA: 0s - loss: 0.0321 - accuracy: 0.9905"
     ]
    },
    {
     "name": "stderr",
     "output_type": "stream",
     "text": [
      "Corrupt JPEG data: 214 extraneous bytes before marker 0xd9\n"
     ]
    },
    {
     "name": "stdout",
     "output_type": "stream",
     "text": [
      "63/63 [==============================] - 3s 46ms/step - loss: 0.0321 - accuracy: 0.9905 - val_loss: 2.2727 - val_accuracy: 0.7570\n",
      "Epoch 30/30\n",
      "63/63 [==============================] - ETA: 0s - loss: 0.0631 - accuracy: 0.9850"
     ]
    },
    {
     "name": "stderr",
     "output_type": "stream",
     "text": [
      "Corrupt JPEG data: 214 extraneous bytes before marker 0xd9\n"
     ]
    },
    {
     "name": "stdout",
     "output_type": "stream",
     "text": [
      "63/63 [==============================] - 3s 47ms/step - loss: 0.0631 - accuracy: 0.9850 - val_loss: 2.1961 - val_accuracy: 0.7220\n"
     ]
    }
   ],
   "source": [
    "callbacks = [\n",
    "    keras.callbacks.ModelCheckpoint(\n",
    "        filepath=\"convnet_from_scratch\",\n",
    "        save_best_only=True,\n",
    "        monitor=\"val_loss\"\n",
    "    )\n",
    "]\n",
    "history = model.fit(\n",
    "    clean_train_dataset,\n",
    "    epochs=30,\n",
    "    validation_data=clean_val_dataset,\n",
    "    callbacks=callbacks\n",
    ")"
   ]
  },
  {
   "cell_type": "code",
   "execution_count": 50,
   "id": "6d57ec45-f1c4-480c-9eb5-d6ac40dbf4c6",
   "metadata": {},
   "outputs": [
    {
     "name": "stdout",
     "output_type": "stream",
     "text": [
      "0\n",
      "CHECK:  0\n",
      "(32, 180, 180, 3)\n",
      "(32,)\n",
      "1\n",
      "CHECK:  32\n",
      "(32, 180, 180, 3)\n",
      "(32,)\n",
      "2\n",
      "CHECK:  64\n",
      "(32, 180, 180, 3)\n",
      "(32,)\n",
      "3\n",
      "CHECK:  96\n",
      "(32, 180, 180, 3)\n",
      "(32,)\n",
      "4\n",
      "CHECK:  128\n",
      "(32, 180, 180, 3)\n",
      "(32,)\n",
      "5\n",
      "CHECK:  160\n",
      "(32, 180, 180, 3)\n",
      "(32,)\n",
      "6\n",
      "CHECK:  192\n",
      "(32, 180, 180, 3)\n",
      "(32,)\n",
      "7\n",
      "CHECK:  224\n",
      "(32, 180, 180, 3)\n",
      "(32,)\n",
      "8\n",
      "CHECK:  256\n",
      "(32, 180, 180, 3)\n",
      "(32,)\n",
      "9\n",
      "CHECK:  288\n",
      "(32, 180, 180, 3)\n",
      "(32,)\n",
      "10\n",
      "CHECK:  320\n",
      "(32, 180, 180, 3)\n",
      "(32,)\n",
      "11\n",
      "CHECK:  352\n",
      "(32, 180, 180, 3)\n",
      "(32,)\n",
      "12\n",
      "CHECK:  384\n",
      "(32, 180, 180, 3)\n",
      "(32,)\n",
      "13\n",
      "CHECK:  416\n",
      "(32, 180, 180, 3)\n",
      "(32,)\n",
      "14\n",
      "CHECK:  448\n",
      "(32, 180, 180, 3)\n",
      "(32,)\n",
      "15\n",
      "CHECK:  480\n",
      "(32, 180, 180, 3)\n",
      "(32,)\n",
      "16\n",
      "CHECK:  512\n",
      "(32, 180, 180, 3)\n",
      "(32,)\n",
      "17\n",
      "CHECK:  544\n",
      "(32, 180, 180, 3)\n",
      "(32,)\n",
      "18\n",
      "CHECK:  576\n",
      "(32, 180, 180, 3)\n",
      "(32,)\n",
      "19\n",
      "CHECK:  608\n",
      "(32, 180, 180, 3)\n",
      "(32,)\n",
      "20\n",
      "CHECK:  640\n",
      "(32, 180, 180, 3)\n",
      "(32,)\n",
      "21\n",
      "CHECK:  672\n",
      "(32, 180, 180, 3)\n",
      "(32,)\n",
      "22\n",
      "CHECK:  704\n",
      "(32, 180, 180, 3)\n",
      "(32,)\n",
      "23\n",
      "CHECK:  736\n",
      "(32, 180, 180, 3)\n",
      "(32,)\n",
      "24\n",
      "CHECK:  768\n",
      "(32, 180, 180, 3)\n",
      "(32,)\n",
      "25\n",
      "CHECK:  800\n",
      "(32, 180, 180, 3)\n",
      "(32,)\n",
      "26\n",
      "CHECK:  832\n",
      "(32, 180, 180, 3)\n",
      "(32,)\n",
      "27\n",
      "CHECK:  864\n",
      "(32, 180, 180, 3)\n",
      "(32,)\n",
      "28\n",
      "CHECK:  896\n",
      "(32, 180, 180, 3)\n",
      "(32,)\n",
      "29\n",
      "CHECK:  928\n",
      "(32, 180, 180, 3)\n",
      "(32,)\n",
      "30\n",
      "CHECK:  960\n",
      "(32, 180, 180, 3)\n",
      "(32,)\n",
      "31\n",
      "CHECK:  992\n",
      "(8, 180, 180, 3)\n",
      "(8,)\n"
     ]
    },
    {
     "name": "stderr",
     "output_type": "stream",
     "text": [
      "Corrupt JPEG data: 214 extraneous bytes before marker 0xd9\n"
     ]
    }
   ],
   "source": [
    "batch = None\n",
    "for i, (db, lb) in enumerate(clean_val_dataset):\n",
    "    print(i)\n",
    "    print(\"CHECK: \", i*32)\n",
    "    print(db.shape)\n",
    "    print(lb.shape)"
   ]
  },
  {
   "cell_type": "code",
   "execution_count": 52,
   "id": "8ca4baaa-a87a-44b9-bd17-9fce98b224c6",
   "metadata": {},
   "outputs": [],
   "source": [
    "import os\n",
    "from PIL import Image\n",
    "\n",
    "def validate_jpeg_files(directory):\n",
    "    corrupt_files = []\n",
    "    for root, _, files in os.walk(directory):\n",
    "        for filename in files:\n",
    "            filepath = os.path.join(root, filename)\n",
    "            if not filename.lower().endswith(('.jpg', '.jpeg')):\n",
    "                continue\n",
    "            try:\n",
    "                # Try to open and verify the image\n",
    "                with Image.open(filepath) as img:\n",
    "                    # Force load the image data\n",
    "                    img.verify()\n",
    "                    \n",
    "                # Double check by trying to load it again\n",
    "                with Image.open(filepath) as img:\n",
    "                    img.load()\n",
    "                    \n",
    "            except Exception as e:\n",
    "                corrupt_files.append({\n",
    "                    'path': filepath,\n",
    "                    'error': str(e)\n",
    "                })   \n",
    "    return corrupt_files"
   ]
  },
  {
   "cell_type": "code",
   "execution_count": 55,
   "id": "c6537a85-b672-4a5d-811a-4c842ef7a063",
   "metadata": {},
   "outputs": [
    {
     "data": {
      "text/plain": [
       "[]"
      ]
     },
     "execution_count": 55,
     "metadata": {},
     "output_type": "execute_result"
    }
   ],
   "source": [
    "validate_jpeg_files(\"./../data/PetImages/cat_vs_dog_small\")"
   ]
  }
 ],
 "metadata": {
  "kernelspec": {
   "display_name": "Python 3 (ipykernel)",
   "language": "python",
   "name": "python3"
  },
  "language_info": {
   "codemirror_mode": {
    "name": "ipython",
    "version": 3
   },
   "file_extension": ".py",
   "mimetype": "text/x-python",
   "name": "python",
   "nbconvert_exporter": "python",
   "pygments_lexer": "ipython3",
   "version": "3.10.15"
  }
 },
 "nbformat": 4,
 "nbformat_minor": 5
}
