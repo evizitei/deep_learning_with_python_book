{
 "cells": [
  {
   "cell_type": "code",
   "execution_count": 9,
   "id": "62d8cfad-ae2f-46f8-8d96-6cf30995cbc1",
   "metadata": {},
   "outputs": [
    {
     "data": {
      "text/plain": [
       "['Cat', 'cat_vs_dogs_small', 'Dog', 'cat_vs_dog_small']"
      ]
     },
     "execution_count": 9,
     "metadata": {},
     "output_type": "execute_result"
    }
   ],
   "source": [
    "# dataset prep one time\n",
    "import os, shutil, pathlib\n",
    "original_dir = pathlib.Path(\"./../data/PetImages\")\n",
    "new_basedir = pathlib.Path(\"./../data/PetImages/cat_vs_dog_small\")\n",
    "\n",
    "def make_subset(subset_name, start_index, end_index):\n",
    "    for category in (\"cat\", \"dog\"):\n",
    "        newdir = new_basedir / subset_name / category\n",
    "        os.makedirs(newdir, exist_ok=True)\n",
    "        fnames = [f\"{i}.jpg\" for i in range(start_index, end_index)]\n",
    "        for fname in fnames:\n",
    "            shutil.copyfile(src= original_dir / category / fname,\n",
    "                            dst = newdir / f\"{fname}\")\n",
    "\n",
    "os.listdir(original_dir)"
   ]
  },
  {
   "cell_type": "code",
   "execution_count": 10,
   "id": "d654fe97-a1d7-42a1-883f-1638d840b8e9",
   "metadata": {},
   "outputs": [],
   "source": [
    "make_subset(\"train\", start_index=0, end_index=100)"
   ]
  }
 ],
 "metadata": {
  "kernelspec": {
   "display_name": "Python 3 (ipykernel)",
   "language": "python",
   "name": "python3"
  },
  "language_info": {
   "codemirror_mode": {
    "name": "ipython",
    "version": 3
   },
   "file_extension": ".py",
   "mimetype": "text/x-python",
   "name": "python",
   "nbconvert_exporter": "python",
   "pygments_lexer": "ipython3",
   "version": "3.10.15"
  }
 },
 "nbformat": 4,
 "nbformat_minor": 5
}
