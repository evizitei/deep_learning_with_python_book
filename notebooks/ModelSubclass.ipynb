{
 "cells": [
  {
   "cell_type": "code",
   "execution_count": 1,
   "id": "3b394eac-039f-4fc2-9f59-2cbc821fcc2d",
   "metadata": {},
   "outputs": [],
   "source": [
    "import os\n",
    "os.environ[\"KERAS_BACKEND\"] = \"jax\"\n",
    "import jax\n",
    "import keras"
   ]
  },
  {
   "cell_type": "code",
   "execution_count": 5,
   "id": "7ffc2829-4222-4a57-9196-3912db2ac989",
   "metadata": {},
   "outputs": [],
   "source": [
    "import keras.layers\n",
    "\n",
    "class CustomerTicketModel(keras.Model):\n",
    "    def __init__(self, num_dept):\n",
    "        super().__init__()\n",
    "        self.concat_layer = keras.layers.Concatenate()\n",
    "        self.mixing_layer = keras.layers.Dense(64, activation=\"relu\")\n",
    "        self.priority_scorer = keras.layers.Dense(1, activation=\"sigmoid\")\n",
    "        self.department_classifier = keras.layers.Dense(num_dept, activation=\"softmax\")\n",
    "\n",
    "    def call(self, inputs):\n",
    "        title = inputs[\"title\"]\n",
    "        text_body = inputs[\"text_body\"]\n",
    "        tags = inputs[\"tags\"]\n",
    "        cct = self.concat_layer([title, text_body, tags])\n",
    "        features = self.mixing_layer(cct)\n",
    "        priority = self.priority_scorer(features)\n",
    "        dept = self.department_classifier(features)\n",
    "        return priority, dept\n",
    "        \n",
    "        "
   ]
  },
  {
   "cell_type": "code",
   "execution_count": 9,
   "id": "d6183318-1040-4a90-8656-f6c4e4c5a98f",
   "metadata": {},
   "outputs": [],
   "source": [
    "import numpy as np\n",
    "\n",
    "n = 1280\n",
    "vocab_size = 10000\n",
    "num_tags = 100\n",
    "num_departments = 4\n",
    "title_data = np.random.randint(0, 2, size=(n, vocab_size))\n",
    "text_body_data = np.random.randint(0, 2, size=(n, vocab_size))\n",
    "tags_data = np.random.randint(0,2, size=(n, num_tags))\n",
    "priority_data = np.random.random(size=(n, 1))\n",
    "department_data = np.random.randint(0, 2, size=(n, num_departments))\n",
    "model = CustomerTicketModel(num_departments)"
   ]
  },
  {
   "cell_type": "code",
   "execution_count": 11,
   "id": "863d1233-7726-4018-b36d-341918bbffd3",
   "metadata": {},
   "outputs": [],
   "source": [
    "input_dict = {\n",
    "    \"title\": title_data, \"text_body\": text_body_data,\n",
    "    \"tags\": tags_data }\n",
    "priority, department = model(input_dict)"
   ]
  },
  {
   "cell_type": "code",
   "execution_count": 12,
   "id": "23f3339b-c0ef-4303-9c8e-b640800d3e55",
   "metadata": {},
   "outputs": [
    {
     "name": "stderr",
     "output_type": "stream",
     "text": [
      "/Users/ethanvizitei/Code/Personal/dlwp/venv/lib/python3.10/site-packages/jax/_src/interpreters/mlir.py:1114: UserWarning: Some donated buffers were not usable: ShapedArray(float32[20100,64]), ShapedArray(float32[64]), ShapedArray(float32[64,1]), ShapedArray(float32[1]), ShapedArray(float32[64,4]), ShapedArray(float32[4]), ShapedArray(int32[]), ShapedArray(float32[]), ShapedArray(float32[20100,64]), ShapedArray(float32[64]), ShapedArray(float32[64,1]), ShapedArray(float32[1]), ShapedArray(float32[64,4]), ShapedArray(float32[4]), ShapedArray(float32[]), ShapedArray(float32[]), ShapedArray(float32[]), ShapedArray(float32[]), ShapedArray(float32[]), ShapedArray(float32[]), ShapedArray(float32[]), ShapedArray(float32[]), ShapedArray(float32[]), ShapedArray(float32[]).\n",
      "Donation is not implemented for ('METAL',).\n",
      "See an explanation at https://jax.readthedocs.io/en/latest/faq.html#buffer-donation.\n",
      "  warnings.warn(\"Some donated buffers were not usable:\"\n"
     ]
    },
    {
     "name": "stdout",
     "output_type": "stream",
     "text": [
      "\u001b[1m40/40\u001b[0m \u001b[32m━━━━━━━━━━━━━━━━━━━━\u001b[0m\u001b[37m\u001b[0m \u001b[1m2s\u001b[0m 4ms/step - accuracy: 0.4877 - categorical_crossentropy_loss: 21.9440 - loss: 22.2484 - mean_absolute_error: 0.4719 - mean_squared_error_loss: 0.3044\n"
     ]
    },
    {
     "name": "stderr",
     "output_type": "stream",
     "text": [
      "/Users/ethanvizitei/Code/Personal/dlwp/venv/lib/python3.10/site-packages/jax/_src/interpreters/mlir.py:1114: UserWarning: Some donated buffers were not usable: ShapedArray(float32[20100,64]), ShapedArray(float32[64]), ShapedArray(float32[64,1]), ShapedArray(float32[1]), ShapedArray(float32[64,4]), ShapedArray(float32[4]), ShapedArray(int32[]), ShapedArray(float32[]), ShapedArray(float32[20100,64]), ShapedArray(float32[64]), ShapedArray(float32[64,1]), ShapedArray(float32[1]), ShapedArray(float32[64,4]), ShapedArray(float32[4]), ShapedArray(float32[]), ShapedArray(float32[]), ShapedArray(float32[]), ShapedArray(float32[]), ShapedArray(float32[]), ShapedArray(float32[]), ShapedArray(float32[]), ShapedArray(float32[]), ShapedArray(float32[]), ShapedArray(float32[]).\n",
      "Donation is not implemented for ('METAL',).\n",
      "See an explanation at https://jax.readthedocs.io/en/latest/faq.html#buffer-donation.\n",
      "  warnings.warn(\"Some donated buffers were not usable:\"\n"
     ]
    },
    {
     "data": {
      "text/plain": [
       "<keras.src.callbacks.history.History at 0x129a4d2a0>"
      ]
     },
     "execution_count": 12,
     "metadata": {},
     "output_type": "execute_result"
    }
   ],
   "source": [
    "model.compile(optimizer=\"rmsprop\", loss=[\"mean_squared_error\", \"categorical_crossentropy\"],\n",
    "              metrics=[[\"mean_absolute_error\"],[\"accuracy\"]])\n",
    "model.fit(input_dict, [priority_data, department_data], epochs=1)"
   ]
  },
  {
   "cell_type": "code",
   "execution_count": 14,
   "id": "537e745e-0b41-48d0-b795-2b1f774e5971",
   "metadata": {},
   "outputs": [
    {
     "name": "stderr",
     "output_type": "stream",
     "text": [
      "/Users/ethanvizitei/Code/Personal/dlwp/venv/lib/python3.10/site-packages/jax/_src/interpreters/mlir.py:1114: UserWarning: Some donated buffers were not usable: ShapedArray(float32[20100,64]), ShapedArray(float32[64]), ShapedArray(float32[64,1]), ShapedArray(float32[1]), ShapedArray(float32[64,4]), ShapedArray(float32[4]), ShapedArray(float32[]), ShapedArray(float32[]), ShapedArray(float32[]), ShapedArray(float32[]), ShapedArray(float32[]), ShapedArray(float32[]), ShapedArray(float32[]), ShapedArray(float32[]), ShapedArray(float32[]), ShapedArray(float32[]).\n",
      "Donation is not implemented for ('METAL',).\n",
      "See an explanation at https://jax.readthedocs.io/en/latest/faq.html#buffer-donation.\n",
      "  warnings.warn(\"Some donated buffers were not usable:\"\n"
     ]
    },
    {
     "name": "stdout",
     "output_type": "stream",
     "text": [
      "\u001b[1m40/40\u001b[0m \u001b[32m━━━━━━━━━━━━━━━━━━━━\u001b[0m\u001b[37m\u001b[0m \u001b[1m1s\u001b[0m 2ms/step - accuracy: 0.5482 - categorical_crossentropy_loss: 24.3343 - loss: 24.6788 - mean_absolute_error: 0.5074 - mean_squared_error_loss: 0.3445\n"
     ]
    },
    {
     "data": {
      "text/plain": [
       "[24.3387508392334,\n",
       " 0.5045356750488281,\n",
       " 0.5726562738418579,\n",
       " 0.33789998292922974,\n",
       " 24.000844955444336]"
      ]
     },
     "execution_count": 14,
     "metadata": {},
     "output_type": "execute_result"
    }
   ],
   "source": [
    "model.evaluate(input_dict, [priority_data, department_data])"
   ]
  }
 ],
 "metadata": {
  "kernelspec": {
   "display_name": "Python 3 (ipykernel)",
   "language": "python",
   "name": "python3"
  },
  "language_info": {
   "codemirror_mode": {
    "name": "ipython",
    "version": 3
   },
   "file_extension": ".py",
   "mimetype": "text/x-python",
   "name": "python",
   "nbconvert_exporter": "python",
   "pygments_lexer": "ipython3",
   "version": "3.10.15"
  }
 },
 "nbformat": 4,
 "nbformat_minor": 5
}
