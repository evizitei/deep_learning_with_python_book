{
 "cells": [
  {
   "cell_type": "code",
   "execution_count": 1,
   "id": "872c9fd1-a0fc-402c-b711-440ec22becd5",
   "metadata": {},
   "outputs": [],
   "source": [
    "import os\n",
    "os.environ[\"KERAS_BACKEND\"] = \"jax\"\n",
    "import jax\n",
    "import numpy as np\n",
    "import keras  \n"
   ]
  },
  {
   "cell_type": "code",
   "execution_count": 31,
   "id": "98c169f9-5c5c-4732-87b1-ecfce05fa3c2",
   "metadata": {},
   "outputs": [],
   "source": [
    "def get_mnist_model():\n",
    "    inputs = keras.Input(shape=(28*28, ))\n",
    "    features = keras.layers.Dense(512, activation=\"relu\")(inputs)\n",
    "    #features = keras.layers.Dropout(0.5)(features)\n",
    "    outputs = keras.layers.Dense(10, activation=\"softmax\")(features)\n",
    "    model = keras.Model(inputs, outputs)\n",
    "    return model"
   ]
  },
  {
   "cell_type": "code",
   "execution_count": 7,
   "id": "8269426f-4961-494b-b47e-a9fd56c9c883",
   "metadata": {},
   "outputs": [],
   "source": [
    "(images, labels), (test_images, test_labels) = keras.datasets.mnist.load_data()\n",
    "images.shape\n",
    "images = images.reshape((60000, 28*28)).astype(\"float32\") / 255\n",
    "test_images = test_images.reshape((10000, 28*28)).astype(\"float32\") / 255"
   ]
  },
  {
   "cell_type": "code",
   "execution_count": 15,
   "id": "24d09316-ca18-4ad5-b781-02705dee53dd",
   "metadata": {},
   "outputs": [],
   "source": [
    "train_images, val_images = images[10000:], images[:10000]\n",
    "train_labels, val_labels = labels[10000:], labels[:10000]\n"
   ]
  },
  {
   "cell_type": "code",
   "execution_count": 10,
   "id": "084755e0-9a56-43df-a397-3f1d77b3e3ce",
   "metadata": {},
   "outputs": [
    {
     "name": "stderr",
     "output_type": "stream",
     "text": [
      "Platform 'METAL' is experimental and not all JAX functionality may be correctly supported!\n",
      "WARNING: All log messages before absl::InitializeLog() is called are written to STDERR\n",
      "W0000 00:00:1732831410.525801 37903572 mps_client.cc:510] WARNING: JAX Apple GPU support is experimental and not all JAX functionality is correctly supported!\n",
      "I0000 00:00:1732831410.537279 37903572 service.cc:145] XLA service 0x600003e1de00 initialized for platform METAL (this does not guarantee that XLA will be used). Devices:\n",
      "I0000 00:00:1732831410.537294 37903572 service.cc:153]   StreamExecutor device (0): Metal, <undefined>\n",
      "I0000 00:00:1732831410.539586 37903572 mps_client.cc:406] Using Simple allocator.\n",
      "I0000 00:00:1732831410.539595 37903572 mps_client.cc:384] XLA backend will use up to 28989243392 bytes on device 0 for SimpleAllocator.\n"
     ]
    },
    {
     "name": "stdout",
     "output_type": "stream",
     "text": [
      "Metal device set to: Apple M3 Pro\n"
     ]
    }
   ],
   "source": [
    "model = get_mnist_model()\n",
    "model.compile(\n",
    "    optimizer=\"rmsprop\", \n",
    "    loss=\"sparse_categorical_crossentropy\",\n",
    "    metrics=[\"accuracy\"])"
   ]
  },
  {
   "cell_type": "code",
   "execution_count": 11,
   "id": "97871875-1e0f-4394-9821-65b8637eda7b",
   "metadata": {},
   "outputs": [
    {
     "name": "stdout",
     "output_type": "stream",
     "text": [
      "Epoch 1/3\n"
     ]
    },
    {
     "name": "stderr",
     "output_type": "stream",
     "text": [
      "/Users/ethanvizitei/Code/Personal/dlwp/venv/lib/python3.10/site-packages/jax/_src/interpreters/mlir.py:1114: UserWarning: Some donated buffers were not usable: ShapedArray(float32[784,512]), ShapedArray(float32[512]), ShapedArray(float32[512,10]), ShapedArray(float32[10]), ShapedArray(uint32[2]), ShapedArray(int32[]), ShapedArray(float32[]), ShapedArray(float32[784,512]), ShapedArray(float32[512]), ShapedArray(float32[512,10]), ShapedArray(float32[10]), ShapedArray(float32[]), ShapedArray(float32[]), ShapedArray(float32[]), ShapedArray(float32[]).\n",
      "Donation is not implemented for ('METAL',).\n",
      "See an explanation at https://jax.readthedocs.io/en/latest/faq.html#buffer-donation.\n",
      "  warnings.warn(\"Some donated buffers were not usable:\"\n"
     ]
    },
    {
     "name": "stdout",
     "output_type": "stream",
     "text": [
      "\u001b[1m 101/1563\u001b[0m \u001b[32m━\u001b[0m\u001b[37m━━━━━━━━━━━━━━━━━━━\u001b[0m \u001b[1m2s\u001b[0m 2ms/step - accuracy: 0.6733 - loss: 1.0878"
     ]
    },
    {
     "name": "stderr",
     "output_type": "stream",
     "text": [
      "/Users/ethanvizitei/Code/Personal/dlwp/venv/lib/python3.10/site-packages/jax/_src/interpreters/mlir.py:1114: UserWarning: Some donated buffers were not usable: ShapedArray(float32[784,512]), ShapedArray(float32[512]), ShapedArray(float32[512,10]), ShapedArray(float32[10]), ShapedArray(uint32[2]), ShapedArray(int32[]), ShapedArray(float32[]), ShapedArray(float32[784,512]), ShapedArray(float32[512]), ShapedArray(float32[512,10]), ShapedArray(float32[10]), ShapedArray(float32[]), ShapedArray(float32[]), ShapedArray(float32[]), ShapedArray(float32[]).\n",
      "Donation is not implemented for ('METAL',).\n",
      "See an explanation at https://jax.readthedocs.io/en/latest/faq.html#buffer-donation.\n",
      "  warnings.warn(\"Some donated buffers were not usable:\"\n"
     ]
    },
    {
     "name": "stdout",
     "output_type": "stream",
     "text": [
      "\u001b[1m1563/1563\u001b[0m \u001b[32m━━━━━━━━━━━━━━━━━━━━\u001b[0m\u001b[37m\u001b[0m \u001b[1m0s\u001b[0m 1ms/step - accuracy: 0.8668 - loss: 0.4498"
     ]
    },
    {
     "name": "stderr",
     "output_type": "stream",
     "text": [
      "/Users/ethanvizitei/Code/Personal/dlwp/venv/lib/python3.10/site-packages/jax/_src/interpreters/mlir.py:1114: UserWarning: Some donated buffers were not usable: ShapedArray(float32[784,512]), ShapedArray(float32[512]), ShapedArray(float32[512,10]), ShapedArray(float32[10]), ShapedArray(uint32[2]), ShapedArray(int32[]), ShapedArray(float32[]), ShapedArray(float32[784,512]), ShapedArray(float32[512]), ShapedArray(float32[512,10]), ShapedArray(float32[10]), ShapedArray(float32[]), ShapedArray(float32[]), ShapedArray(float32[]), ShapedArray(float32[]).\n",
      "Donation is not implemented for ('METAL',).\n",
      "See an explanation at https://jax.readthedocs.io/en/latest/faq.html#buffer-donation.\n",
      "  warnings.warn(\"Some donated buffers were not usable:\"\n",
      "/Users/ethanvizitei/Code/Personal/dlwp/venv/lib/python3.10/site-packages/jax/_src/interpreters/mlir.py:1114: UserWarning: Some donated buffers were not usable: ShapedArray(float32[784,512]), ShapedArray(float32[512]), ShapedArray(float32[512,10]), ShapedArray(float32[10]), ShapedArray(uint32[2]), ShapedArray(float32[]), ShapedArray(float32[]), ShapedArray(float32[]), ShapedArray(float32[]).\n",
      "Donation is not implemented for ('METAL',).\n",
      "See an explanation at https://jax.readthedocs.io/en/latest/faq.html#buffer-donation.\n",
      "  warnings.warn(\"Some donated buffers were not usable:\"\n"
     ]
    },
    {
     "name": "stdout",
     "output_type": "stream",
     "text": [
      "\u001b[1m1563/1563\u001b[0m \u001b[32m━━━━━━━━━━━━━━━━━━━━\u001b[0m\u001b[37m\u001b[0m \u001b[1m5s\u001b[0m 2ms/step - accuracy: 0.8668 - loss: 0.4497 - val_accuracy: 0.9593 - val_loss: 0.1431\n",
      "Epoch 2/3\n",
      "\u001b[1m  96/1563\u001b[0m \u001b[32m━\u001b[0m\u001b[37m━━━━━━━━━━━━━━━━━━━\u001b[0m \u001b[1m1s\u001b[0m 1ms/step - accuracy: 0.9432 - loss: 0.1764"
     ]
    },
    {
     "name": "stderr",
     "output_type": "stream",
     "text": [
      "/Users/ethanvizitei/Code/Personal/dlwp/venv/lib/python3.10/site-packages/jax/_src/interpreters/mlir.py:1114: UserWarning: Some donated buffers were not usable: ShapedArray(float32[784,512]), ShapedArray(float32[512]), ShapedArray(float32[512,10]), ShapedArray(float32[10]), ShapedArray(uint32[2]), ShapedArray(float32[]), ShapedArray(float32[]), ShapedArray(float32[]), ShapedArray(float32[]).\n",
      "Donation is not implemented for ('METAL',).\n",
      "See an explanation at https://jax.readthedocs.io/en/latest/faq.html#buffer-donation.\n",
      "  warnings.warn(\"Some donated buffers were not usable:\"\n",
      "/Users/ethanvizitei/Code/Personal/dlwp/venv/lib/python3.10/site-packages/jax/_src/interpreters/mlir.py:1114: UserWarning: Some donated buffers were not usable: ShapedArray(float32[784,512]), ShapedArray(float32[512]), ShapedArray(float32[512,10]), ShapedArray(float32[10]), ShapedArray(uint32[2]), ShapedArray(int32[]), ShapedArray(float32[]), ShapedArray(float32[784,512]), ShapedArray(float32[512]), ShapedArray(float32[512,10]), ShapedArray(float32[10]), ShapedArray(float32[]), ShapedArray(float32[]), ShapedArray(float32[]), ShapedArray(float32[]).\n",
      "Donation is not implemented for ('METAL',).\n",
      "See an explanation at https://jax.readthedocs.io/en/latest/faq.html#buffer-donation.\n",
      "  warnings.warn(\"Some donated buffers were not usable:\"\n"
     ]
    },
    {
     "name": "stdout",
     "output_type": "stream",
     "text": [
      "\u001b[1m1563/1563\u001b[0m \u001b[32m━━━━━━━━━━━━━━━━━━━━\u001b[0m\u001b[37m\u001b[0m \u001b[1m2s\u001b[0m 1ms/step - accuracy: 0.9509 - loss: 0.1694 - val_accuracy: 0.9671 - val_loss: 0.1193\n",
      "Epoch 3/3\n",
      "\u001b[1m1563/1563\u001b[0m \u001b[32m━━━━━━━━━━━━━━━━━━━━\u001b[0m\u001b[37m\u001b[0m \u001b[1m2s\u001b[0m 1ms/step - accuracy: 0.9629 - loss: 0.1313 - val_accuracy: 0.9701 - val_loss: 0.1078\n"
     ]
    },
    {
     "data": {
      "text/plain": [
       "<keras.src.callbacks.history.History at 0x126819a50>"
      ]
     },
     "execution_count": 11,
     "metadata": {},
     "output_type": "execute_result"
    }
   ],
   "source": [
    "model.fit(train_images, train_labels, \n",
    "          epochs=3, \n",
    "          validation_data=(val_images, val_labels))"
   ]
  },
  {
   "cell_type": "code",
   "execution_count": 12,
   "id": "c1cade81-91a9-4fe7-89ce-a2febc6d9a11",
   "metadata": {},
   "outputs": [
    {
     "name": "stdout",
     "output_type": "stream",
     "text": [
      "\u001b[1m313/313\u001b[0m \u001b[32m━━━━━━━━━━━━━━━━━━━━\u001b[0m\u001b[37m\u001b[0m \u001b[1m0s\u001b[0m 604us/step - accuracy: 0.9711 - loss: 0.1052\n"
     ]
    }
   ],
   "source": [
    "test_metrics = model.evaluate(test_images, test_labels)"
   ]
  },
  {
   "cell_type": "code",
   "execution_count": 13,
   "id": "a498f92f-9cda-4a34-9165-ac729c9b5d2e",
   "metadata": {},
   "outputs": [
    {
     "name": "stdout",
     "output_type": "stream",
     "text": [
      "\u001b[1m313/313\u001b[0m \u001b[32m━━━━━━━━━━━━━━━━━━━━\u001b[0m\u001b[37m\u001b[0m \u001b[1m0s\u001b[0m 289us/step\n"
     ]
    }
   ],
   "source": [
    "predictions = model.predict(test_images)"
   ]
  },
  {
   "cell_type": "code",
   "execution_count": 7,
   "id": "1b97fd4b-f254-479f-ac72-916817d82b34",
   "metadata": {},
   "outputs": [
    {
     "ename": "NotFoundError",
     "evalue": "dlopen(/Users/ethanvizitei/Code/Personal/dlwp/venv/lib/python3.10/site-packages/tensorflow-plugins/libmetal_plugin.dylib, 0x0006): Symbol not found: __ZN3tsl8internal10LogMessageC1EPKcii\n  Referenced from: <D2EF42E3-3A7F-39DD-9982-FB6BCDC2853C> /Users/ethanvizitei/Code/Personal/dlwp/venv/lib/python3.10/site-packages/tensorflow-plugins/libmetal_plugin.dylib\n  Expected in:     <E6BA2FD2-654D-380C-8224-59AA45D1133C> /Users/ethanvizitei/Code/Personal/dlwp/venv/lib/python3.10/site-packages/tensorflow/python/_pywrap_tensorflow_internal.so",
     "output_type": "error",
     "traceback": [
      "\u001b[0;31m---------------------------------------------------------------------------\u001b[0m",
      "\u001b[0;31mNotFoundError\u001b[0m                             Traceback (most recent call last)",
      "Cell \u001b[0;32mIn[7], line 6\u001b[0m\n\u001b[1;32m      1\u001b[0m model \u001b[38;5;241m=\u001b[39m get_mnist_model()\n\u001b[1;32m      2\u001b[0m model\u001b[38;5;241m.\u001b[39mcompile(optimizer\u001b[38;5;241m=\u001b[39m\u001b[38;5;124m\"\u001b[39m\u001b[38;5;124mrmsprop\u001b[39m\u001b[38;5;124m\"\u001b[39m,\n\u001b[1;32m      3\u001b[0m               loss\u001b[38;5;241m=\u001b[39m\u001b[38;5;124m\"\u001b[39m\u001b[38;5;124msparse_categorical_crossentropy\u001b[39m\u001b[38;5;124m\"\u001b[39m,\n\u001b[1;32m      4\u001b[0m               metrics\u001b[38;5;241m=\u001b[39m[\u001b[38;5;124m\"\u001b[39m\u001b[38;5;124maccuracy\u001b[39m\u001b[38;5;124m\"\u001b[39m])\n\u001b[0;32m----> 6\u001b[0m \u001b[43mmodel\u001b[49m\u001b[38;5;241;43m.\u001b[39;49m\u001b[43mfit\u001b[49m\u001b[43m(\u001b[49m\u001b[43mtrain_images\u001b[49m\u001b[43m,\u001b[49m\u001b[43m \u001b[49m\u001b[43mtrain_labels\u001b[49m\u001b[43m,\u001b[49m\n\u001b[1;32m      7\u001b[0m \u001b[43m          \u001b[49m\u001b[43mepochs\u001b[49m\u001b[38;5;241;43m=\u001b[39;49m\u001b[38;5;241;43m10\u001b[39;49m\u001b[43m,\u001b[49m\n\u001b[1;32m      8\u001b[0m \u001b[43m          \u001b[49m\u001b[43mvalidation_data\u001b[49m\u001b[38;5;241;43m=\u001b[39;49m\u001b[43m(\u001b[49m\u001b[43mval_images\u001b[49m\u001b[43m,\u001b[49m\u001b[43m \u001b[49m\u001b[43mval_labels\u001b[49m\u001b[43m)\u001b[49m\u001b[43m,\u001b[49m\n\u001b[1;32m      9\u001b[0m \u001b[43m          \u001b[49m\u001b[43mcallbacks\u001b[49m\u001b[38;5;241;43m=\u001b[39;49m\u001b[43m[\u001b[49m\u001b[43mtensorboard\u001b[49m\u001b[43m]\u001b[49m\u001b[43m)\u001b[49m\n",
      "File \u001b[0;32m~/Code/Personal/dlwp/venv/lib/python3.10/site-packages/keras/src/utils/traceback_utils.py:122\u001b[0m, in \u001b[0;36mfilter_traceback.<locals>.error_handler\u001b[0;34m(*args, **kwargs)\u001b[0m\n\u001b[1;32m    119\u001b[0m     filtered_tb \u001b[38;5;241m=\u001b[39m _process_traceback_frames(e\u001b[38;5;241m.\u001b[39m__traceback__)\n\u001b[1;32m    120\u001b[0m     \u001b[38;5;66;03m# To get the full stack trace, call:\u001b[39;00m\n\u001b[1;32m    121\u001b[0m     \u001b[38;5;66;03m# `keras.config.disable_traceback_filtering()`\u001b[39;00m\n\u001b[0;32m--> 122\u001b[0m     \u001b[38;5;28;01mraise\u001b[39;00m e\u001b[38;5;241m.\u001b[39mwith_traceback(filtered_tb) \u001b[38;5;28;01mfrom\u001b[39;00m \u001b[38;5;28;01mNone\u001b[39;00m\n\u001b[1;32m    123\u001b[0m \u001b[38;5;28;01mfinally\u001b[39;00m:\n\u001b[1;32m    124\u001b[0m     \u001b[38;5;28;01mdel\u001b[39;00m filtered_tb\n",
      "File \u001b[0;32m~/Code/Personal/dlwp/venv/lib/python3.10/site-packages/tensorflow/__init__.py:437\u001b[0m\n\u001b[1;32m    435\u001b[0m _plugin_dir \u001b[38;5;241m=\u001b[39m _os\u001b[38;5;241m.\u001b[39mpath\u001b[38;5;241m.\u001b[39mjoin(_s, \u001b[38;5;124m\"\u001b[39m\u001b[38;5;124mtensorflow-plugins\u001b[39m\u001b[38;5;124m\"\u001b[39m)\n\u001b[1;32m    436\u001b[0m \u001b[38;5;28;01mif\u001b[39;00m _os\u001b[38;5;241m.\u001b[39mpath\u001b[38;5;241m.\u001b[39mexists(_plugin_dir):\n\u001b[0;32m--> 437\u001b[0m   \u001b[43m_ll\u001b[49m\u001b[38;5;241;43m.\u001b[39;49m\u001b[43mload_library\u001b[49m\u001b[43m(\u001b[49m\u001b[43m_plugin_dir\u001b[49m\u001b[43m)\u001b[49m\n\u001b[1;32m    438\u001b[0m   \u001b[38;5;66;03m# Load Pluggable Device Library\u001b[39;00m\n\u001b[1;32m    439\u001b[0m   _ll\u001b[38;5;241m.\u001b[39mload_pluggable_device_library(_plugin_dir)\n",
      "\u001b[0;31mNotFoundError\u001b[0m: dlopen(/Users/ethanvizitei/Code/Personal/dlwp/venv/lib/python3.10/site-packages/tensorflow-plugins/libmetal_plugin.dylib, 0x0006): Symbol not found: __ZN3tsl8internal10LogMessageC1EPKcii\n  Referenced from: <D2EF42E3-3A7F-39DD-9982-FB6BCDC2853C> /Users/ethanvizitei/Code/Personal/dlwp/venv/lib/python3.10/site-packages/tensorflow-plugins/libmetal_plugin.dylib\n  Expected in:     <E6BA2FD2-654D-380C-8224-59AA45D1133C> /Users/ethanvizitei/Code/Personal/dlwp/venv/lib/python3.10/site-packages/tensorflow/python/_pywrap_tensorflow_internal.so"
     ]
    }
   ],
   "source": [
    "model = get_mnist_model()\n",
    "model.compile(optimizer=\"rmsprop\",\n",
    "              loss=\"sparse_categorical_crossentropy\",\n",
    "              metrics=[\"accuracy\"])\n",
    "  \n",
    "model.fit(train_images, train_labels,\n",
    "          epochs=10,\n",
    "          validation_data=(val_images, val_labels),\n",
    "          callbacks=[tensorboard])"
   ]
  },
  {
   "cell_type": "code",
   "execution_count": 35,
   "id": "3524f63c-e6d9-4cbc-a111-719cb970b31d",
   "metadata": {},
   "outputs": [],
   "source": [
    "model = get_mnist_model()\n",
    "loss_fn = keras.losses.SparseCategoricalCrossentropy()\n",
    "optimizer = keras.optimizers.RMSprop()\n",
    "train_metric = keras.metrics.SparseCategoricalAccuracy()\n",
    "loss_tracking_metric = keras.metrics.Mean()"
   ]
  },
  {
   "cell_type": "code",
   "execution_count": 36,
   "id": "b53e0dbc-eb88-4548-89ee-9b4e6b76a6f5",
   "metadata": {},
   "outputs": [],
   "source": [
    "\n",
    "def compute_loss(t_vars, nt_vars, x, y):\n",
    "    y_pred, nt_vars = model.stateless_call(t_vars, nt_vars, x)\n",
    "    loss_val = loss_fn(y, y_pred)\n",
    "    return loss_val, nt_vars\n",
    "\n",
    "def compute_loss_and_updates(t_vars, nt_vars, met_vars, x, y):\n",
    "    y_pred, nt_vars = model.stateless_call(t_vars, nt_vars, x)\n",
    "    loss_val = loss_fn(y, y_pred)\n",
    "    met_vars = train_metric.stateless_update_state(met_vars, y, y_pred)\n",
    "    return loss_val, (nt_vars, met_vars)\n",
    "\n",
    "loss_grad_fn = jax.value_and_grad(compute_loss, has_aux=True)\n",
    "grad_fn = jax.value_and_grad(compute_loss_and_updates, has_aux=True)\n",
    "\n",
    "def train_step(state, inputs, targets):\n",
    "    t_vars, nt_vars, opt_vars, met_vars = state\n",
    "    (loss, (nt_vars, met_vars)), grads = grad_fn(t_vars, nt_vars, met_vars, inputs, targets)\n",
    "    t_vars, opt_vars = optimizer.stateless_apply(opt_vars, grads, t_vars)\n",
    "    return loss, (t_vars, nt_vars, opt_vars)\n",
    "    \n",
    "    "
   ]
  },
  {
   "cell_type": "code",
   "execution_count": 37,
   "id": "b155c9c7-8349-4bb3-a8a6-7b0361b8fa37",
   "metadata": {},
   "outputs": [],
   "source": [
    "t_vars = model.trainable_variables\n",
    "nt_vars = model.non_trainable_variables\n",
    "optimizer.build(t_vars)\n",
    "opt_vars = optimizer.variables\n",
    "met_vars = train_metric.variables\n",
    "state = t_vars, nt_vars, opt_vars, met_vars"
   ]
  },
  {
   "cell_type": "code",
   "execution_count": 38,
   "id": "a1c44a7f-31a1-49fe-a41c-46baef6bd66c",
   "metadata": {},
   "outputs": [],
   "source": [
    "class Dataset:\n",
    "    def __init__(self, data, labels, batch_size):\n",
    "        self.data = data\n",
    "        self.labels = labels\n",
    "        self.batch_size = batch_size\n",
    "        self._indices = np.arange(len(data))\n",
    "    def __iter__(self):\n",
    "        for start_idx in range(0, len(self.data), self.batch_size):\n",
    "            end_idx = start_idx + self.batch_size\n",
    "            batch_indices = self._indices[start_idx:end_idx]\n",
    "            yield (self.data[batch_indices], self.labels[batch_indices])\n",
    "    def __len__(self):\n",
    "        return (len(self.data) + (self.batch_size - 1)) // self.batch_size\n",
    "        \n",
    "        "
   ]
  },
  {
   "cell_type": "code",
   "execution_count": 21,
   "id": "5322f2ff-26e2-46bd-ae07-61ee583e210b",
   "metadata": {},
   "outputs": [],
   "source": [
    "image_dataset = Dataset(train_images, train_labels, 128)"
   ]
  },
  {
   "cell_type": "code",
   "execution_count": 39,
   "id": "506b70c0-b5f5-4cf6-8a6e-45a21e2e8cd5",
   "metadata": {},
   "outputs": [
    {
     "data": {
      "text/plain": [
       "(Array(2.4138134, dtype=float32),\n",
       " ([], [Array(8., dtype=float32), Array(128., dtype=float32)]))"
      ]
     },
     "execution_count": 39,
     "metadata": {},
     "output_type": "execute_result"
    }
   ],
   "source": [
    "small_batch = train_images[:128]\n",
    "small_labels = train_labels[:128]\n",
    "compute_loss_and_updates(t_vars, nt_vars, met_vars, small_batch, small_labels)"
   ]
  },
  {
   "cell_type": "code",
   "execution_count": 44,
   "id": "078ae523-8896-4d6c-b48f-7406e11d4c29",
   "metadata": {},
   "outputs": [
    {
     "ename": "AttributeError",
     "evalue": "'jaxlib.xla_extension.ArrayImpl' object has no attribute '__jax_array__'",
     "output_type": "error",
     "traceback": [
      "\u001b[0;31m---------------------------------------------------------------------------\u001b[0m",
      "\u001b[0;31mAttributeError\u001b[0m                            Traceback (most recent call last)",
      "Cell \u001b[0;32mIn[44], line 1\u001b[0m\n\u001b[0;32m----> 1\u001b[0m \u001b[43mlocal_x\u001b[49m\u001b[38;5;241;43m.\u001b[39;49m\u001b[43m__jax_array__\u001b[49m()\n",
      "\u001b[0;31mAttributeError\u001b[0m: 'jaxlib.xla_extension.ArrayImpl' object has no attribute '__jax_array__'"
     ]
    }
   ],
   "source": [
    "local_x.__jax_array__()"
   ]
  },
  {
   "cell_type": "code",
   "execution_count": 41,
   "id": "1ea3767d-f3b6-4ba8-81a2-ac92752e26b3",
   "metadata": {},
   "outputs": [
    {
     "ename": "RecursionError",
     "evalue": "Exception encountered when calling Dense.call().\n\n\u001b[1mmaximum recursion depth exceeded in comparison\u001b[0m\n\nArguments received by Dense.call():\n  • inputs=jnp.ndarray(shape=(128, 784), dtype=float32)\n  • training=None",
     "output_type": "error",
     "traceback": [
      "\u001b[0;31m---------------------------------------------------------------------------\u001b[0m",
      "\u001b[0;31mRecursionError\u001b[0m                            Traceback (most recent call last)",
      "Cell \u001b[0;32mIn[41], line 5\u001b[0m\n\u001b[1;32m      3\u001b[0m local_y \u001b[38;5;241m=\u001b[39m jnp\u001b[38;5;241m.\u001b[39masarray(small_labels)\n\u001b[1;32m      4\u001b[0m compute_loss(t_vars, nt_vars, local_x, local_y)\n\u001b[0;32m----> 5\u001b[0m \u001b[43mloss_grad_fn\u001b[49m\u001b[43m(\u001b[49m\u001b[43mt_vars\u001b[49m\u001b[43m,\u001b[49m\u001b[43m \u001b[49m\u001b[43mnt_vars\u001b[49m\u001b[43m,\u001b[49m\u001b[43m \u001b[49m\u001b[43mlocal_x\u001b[49m\u001b[43m,\u001b[49m\u001b[43m \u001b[49m\u001b[43mlocal_y\u001b[49m\u001b[43m)\u001b[49m\n",
      "    \u001b[0;31m[... skipping hidden 8 frame]\u001b[0m\n",
      "Cell \u001b[0;32mIn[36], line 2\u001b[0m, in \u001b[0;36mcompute_loss\u001b[0;34m(t_vars, nt_vars, x, y)\u001b[0m\n\u001b[1;32m      1\u001b[0m \u001b[38;5;28;01mdef\u001b[39;00m \u001b[38;5;21mcompute_loss\u001b[39m(t_vars, nt_vars, x, y):\n\u001b[0;32m----> 2\u001b[0m     y_pred, nt_vars \u001b[38;5;241m=\u001b[39m \u001b[43mmodel\u001b[49m\u001b[38;5;241;43m.\u001b[39;49m\u001b[43mstateless_call\u001b[49m\u001b[43m(\u001b[49m\u001b[43mt_vars\u001b[49m\u001b[43m,\u001b[49m\u001b[43m \u001b[49m\u001b[43mnt_vars\u001b[49m\u001b[43m,\u001b[49m\u001b[43m \u001b[49m\u001b[43mx\u001b[49m\u001b[43m)\u001b[49m\n\u001b[1;32m      3\u001b[0m     loss_val \u001b[38;5;241m=\u001b[39m loss_fn(y, y_pred)\n\u001b[1;32m      4\u001b[0m     \u001b[38;5;28;01mreturn\u001b[39;00m loss_val, nt_vars\n",
      "File \u001b[0;32m~/Code/Personal/dlwp/venv/lib/python3.10/site-packages/keras/src/utils/traceback_utils.py:122\u001b[0m, in \u001b[0;36mfilter_traceback.<locals>.error_handler\u001b[0;34m(*args, **kwargs)\u001b[0m\n\u001b[1;32m    119\u001b[0m     filtered_tb \u001b[38;5;241m=\u001b[39m _process_traceback_frames(e\u001b[38;5;241m.\u001b[39m__traceback__)\n\u001b[1;32m    120\u001b[0m     \u001b[38;5;66;03m# To get the full stack trace, call:\u001b[39;00m\n\u001b[1;32m    121\u001b[0m     \u001b[38;5;66;03m# `keras.config.disable_traceback_filtering()`\u001b[39;00m\n\u001b[0;32m--> 122\u001b[0m     \u001b[38;5;28;01mraise\u001b[39;00m e\u001b[38;5;241m.\u001b[39mwith_traceback(filtered_tb) \u001b[38;5;28;01mfrom\u001b[39;00m \u001b[38;5;28;01mNone\u001b[39;00m\n\u001b[1;32m    123\u001b[0m \u001b[38;5;28;01mfinally\u001b[39;00m:\n\u001b[1;32m    124\u001b[0m     \u001b[38;5;28;01mdel\u001b[39;00m filtered_tb\n",
      "    \u001b[0;31m[... skipping hidden 11 frame]\u001b[0m\n",
      "    \u001b[0;31m[... skipping similar frames: JVPTracer.aval at line 456 (488 times), concrete_aval at line 1527 (488 times), get_aval at line 1536 (488 times), Tracer.__getattr__ at line 831 (487 times), concrete_aval at line 1526 (487 times)]\u001b[0m\n",
      "    \u001b[0;31m[... skipping hidden 4 frame]\u001b[0m\n",
      "File \u001b[0;32m~/Code/Personal/dlwp/venv/lib/python3.10/site-packages/jax/_src/core.py:1527\u001b[0m, in \u001b[0;36mconcrete_aval\u001b[0;34m(x)\u001b[0m\n\u001b[1;32m   1525\u001b[0m   \u001b[38;5;28;01mif\u001b[39;00m handler: \u001b[38;5;28;01mreturn\u001b[39;00m handler(x)\n\u001b[1;32m   1526\u001b[0m \u001b[38;5;28;01mif\u001b[39;00m \u001b[38;5;28mhasattr\u001b[39m(x, \u001b[38;5;124m'\u001b[39m\u001b[38;5;124m__jax_array__\u001b[39m\u001b[38;5;124m'\u001b[39m):\n\u001b[0;32m-> 1527\u001b[0m   \u001b[38;5;28;01mreturn\u001b[39;00m concrete_aval(\u001b[43mx\u001b[49m\u001b[38;5;241;43m.\u001b[39;49m\u001b[43m__jax_array__\u001b[49m\u001b[43m(\u001b[49m\u001b[43m)\u001b[49m)\n\u001b[1;32m   1528\u001b[0m \u001b[38;5;28;01mraise\u001b[39;00m \u001b[38;5;167;01mTypeError\u001b[39;00m(\u001b[38;5;124mf\u001b[39m\u001b[38;5;124m\"\u001b[39m\u001b[38;5;124mValue \u001b[39m\u001b[38;5;132;01m{\u001b[39;00mx\u001b[38;5;132;01m!r}\u001b[39;00m\u001b[38;5;124m with type \u001b[39m\u001b[38;5;132;01m{\u001b[39;00m\u001b[38;5;28mtype\u001b[39m(x)\u001b[38;5;132;01m}\u001b[39;00m\u001b[38;5;124m is not a valid JAX \u001b[39m\u001b[38;5;124m\"\u001b[39m\n\u001b[1;32m   1529\u001b[0m                  \u001b[38;5;124m\"\u001b[39m\u001b[38;5;124mtype\u001b[39m\u001b[38;5;124m\"\u001b[39m)\n",
      "\u001b[0;31mRecursionError\u001b[0m: Exception encountered when calling Dense.call().\n\n\u001b[1mmaximum recursion depth exceeded in comparison\u001b[0m\n\nArguments received by Dense.call():\n  • inputs=jnp.ndarray(shape=(128, 784), dtype=float32)\n  • training=None"
     ]
    }
   ],
   "source": [
    "import jax.numpy as jnp\n",
    "local_x = jnp.asarray(small_batch)\n",
    "local_y = jnp.asarray(small_labels)\n",
    "compute_loss(t_vars, nt_vars, local_x, local_y)\n",
    "loss_grad_fn(t_vars, nt_vars, local_x, local_y)"
   ]
  },
  {
   "cell_type": "code",
   "execution_count": 22,
   "id": "a16a34fa-94fa-4356-9aba-070b0b6edef3",
   "metadata": {},
   "outputs": [
    {
     "ename": "RecursionError",
     "evalue": "Exception encountered when calling Dense.call().\n\n\u001b[1mmaximum recursion depth exceeded while calling a Python object\u001b[0m\n\nArguments received by Dense.call():\n  • inputs=jnp.ndarray(shape=(128, 784), dtype=float32)\n  • training=None",
     "output_type": "error",
     "traceback": [
      "\u001b[0;31m---------------------------------------------------------------------------\u001b[0m",
      "\u001b[0;31mRecursionError\u001b[0m                            Traceback (most recent call last)",
      "Cell \u001b[0;32mIn[22], line 5\u001b[0m\n\u001b[1;32m      3\u001b[0m \u001b[38;5;28;01mfor\u001b[39;00m ep \u001b[38;5;129;01min\u001b[39;00m \u001b[38;5;28mrange\u001b[39m(epochs):\n\u001b[1;32m      4\u001b[0m     \u001b[38;5;28;01mfor\u001b[39;00m inputs_batch, targets_batch \u001b[38;5;129;01min\u001b[39;00m image_dataset:\n\u001b[0;32m----> 5\u001b[0m         loss, new_state \u001b[38;5;241m=\u001b[39m \u001b[43mtrain_step\u001b[49m\u001b[43m(\u001b[49m\u001b[43mnew_state\u001b[49m\u001b[43m,\u001b[49m\u001b[43m \u001b[49m\u001b[43minputs_batch\u001b[49m\u001b[43m,\u001b[49m\u001b[43m \u001b[49m\u001b[43mtargets_batch\u001b[49m\u001b[43m)\u001b[49m\n\u001b[1;32m      6\u001b[0m     \u001b[38;5;28mprint\u001b[39m(\u001b[38;5;124mf\u001b[39m\u001b[38;5;124m'\u001b[39m\u001b[38;5;124mEpoch \u001b[39m\u001b[38;5;132;01m{\u001b[39;00mep\u001b[38;5;132;01m}\u001b[39;00m\u001b[38;5;124m: LOSS - \u001b[39m\u001b[38;5;132;01m{\u001b[39;00mloss\u001b[38;5;132;01m}\u001b[39;00m\u001b[38;5;124m'\u001b[39m)\n",
      "Cell \u001b[0;32mIn[19], line 11\u001b[0m, in \u001b[0;36mtrain_step\u001b[0;34m(state, inputs, targets)\u001b[0m\n\u001b[1;32m      9\u001b[0m \u001b[38;5;28;01mdef\u001b[39;00m \u001b[38;5;21mtrain_step\u001b[39m(state, inputs, targets):\n\u001b[1;32m     10\u001b[0m     t_vars, nt_vars, opt_vars, met_vars \u001b[38;5;241m=\u001b[39m state\n\u001b[0;32m---> 11\u001b[0m     (loss, (nt_vars, met_vars)), grads \u001b[38;5;241m=\u001b[39m \u001b[43mgrad_fn\u001b[49m\u001b[43m(\u001b[49m\u001b[43mt_vars\u001b[49m\u001b[43m,\u001b[49m\u001b[43m \u001b[49m\u001b[43mnt_vars\u001b[49m\u001b[43m,\u001b[49m\u001b[43m \u001b[49m\u001b[43mmet_vars\u001b[49m\u001b[43m,\u001b[49m\u001b[43m \u001b[49m\u001b[43minputs\u001b[49m\u001b[43m,\u001b[49m\u001b[43m \u001b[49m\u001b[43mtargets\u001b[49m\u001b[43m)\u001b[49m\n\u001b[1;32m     12\u001b[0m     t_vars, opt_vars \u001b[38;5;241m=\u001b[39m optimizer\u001b[38;5;241m.\u001b[39mstateless_apply(opt_vars, grads, t_vars)\n\u001b[1;32m     13\u001b[0m     \u001b[38;5;28;01mreturn\u001b[39;00m loss, (t_vars, nt_vars, opt_vars)\n",
      "    \u001b[0;31m[... skipping hidden 8 frame]\u001b[0m\n",
      "Cell \u001b[0;32mIn[19], line 2\u001b[0m, in \u001b[0;36mcompute_loss_and_updates\u001b[0;34m(t_vars, nt_vars, met_vars, x, y)\u001b[0m\n\u001b[1;32m      1\u001b[0m \u001b[38;5;28;01mdef\u001b[39;00m \u001b[38;5;21mcompute_loss_and_updates\u001b[39m(t_vars, nt_vars, met_vars, x, y):\n\u001b[0;32m----> 2\u001b[0m     y_pred, nt_vars \u001b[38;5;241m=\u001b[39m \u001b[43mmodel\u001b[49m\u001b[38;5;241;43m.\u001b[39;49m\u001b[43mstateless_call\u001b[49m\u001b[43m(\u001b[49m\u001b[43mt_vars\u001b[49m\u001b[43m,\u001b[49m\u001b[43m \u001b[49m\u001b[43mnt_vars\u001b[49m\u001b[43m,\u001b[49m\u001b[43m \u001b[49m\u001b[43mx\u001b[49m\u001b[43m)\u001b[49m\n\u001b[1;32m      3\u001b[0m     loss_val \u001b[38;5;241m=\u001b[39m loss_fn(y, y_pred)\n\u001b[1;32m      4\u001b[0m     met_vars \u001b[38;5;241m=\u001b[39m train_metric\u001b[38;5;241m.\u001b[39mstateless_update_state(met_vars, y, y_pred)\n",
      "File \u001b[0;32m~/Code/Personal/dlwp/venv/lib/python3.10/site-packages/keras/src/utils/traceback_utils.py:122\u001b[0m, in \u001b[0;36mfilter_traceback.<locals>.error_handler\u001b[0;34m(*args, **kwargs)\u001b[0m\n\u001b[1;32m    119\u001b[0m     filtered_tb \u001b[38;5;241m=\u001b[39m _process_traceback_frames(e\u001b[38;5;241m.\u001b[39m__traceback__)\n\u001b[1;32m    120\u001b[0m     \u001b[38;5;66;03m# To get the full stack trace, call:\u001b[39;00m\n\u001b[1;32m    121\u001b[0m     \u001b[38;5;66;03m# `keras.config.disable_traceback_filtering()`\u001b[39;00m\n\u001b[0;32m--> 122\u001b[0m     \u001b[38;5;28;01mraise\u001b[39;00m e\u001b[38;5;241m.\u001b[39mwith_traceback(filtered_tb) \u001b[38;5;28;01mfrom\u001b[39;00m \u001b[38;5;28;01mNone\u001b[39;00m\n\u001b[1;32m    123\u001b[0m \u001b[38;5;28;01mfinally\u001b[39;00m:\n\u001b[1;32m    124\u001b[0m     \u001b[38;5;28;01mdel\u001b[39;00m filtered_tb\n",
      "    \u001b[0;31m[... skipping hidden 11 frame]\u001b[0m\n",
      "    \u001b[0;31m[... skipping similar frames: JVPTracer.aval at line 456 (488 times), concrete_aval at line 1527 (488 times), get_aval at line 1536 (488 times), Tracer.__getattr__ at line 831 (487 times), concrete_aval at line 1526 (487 times)]\u001b[0m\n",
      "    \u001b[0;31m[... skipping hidden 4 frame]\u001b[0m\n",
      "File \u001b[0;32m~/Code/Personal/dlwp/venv/lib/python3.10/site-packages/jax/_src/core.py:1527\u001b[0m, in \u001b[0;36mconcrete_aval\u001b[0;34m(x)\u001b[0m\n\u001b[1;32m   1525\u001b[0m   \u001b[38;5;28;01mif\u001b[39;00m handler: \u001b[38;5;28;01mreturn\u001b[39;00m handler(x)\n\u001b[1;32m   1526\u001b[0m \u001b[38;5;28;01mif\u001b[39;00m \u001b[38;5;28mhasattr\u001b[39m(x, \u001b[38;5;124m'\u001b[39m\u001b[38;5;124m__jax_array__\u001b[39m\u001b[38;5;124m'\u001b[39m):\n\u001b[0;32m-> 1527\u001b[0m   \u001b[38;5;28;01mreturn\u001b[39;00m concrete_aval(\u001b[43mx\u001b[49m\u001b[38;5;241;43m.\u001b[39;49m\u001b[43m__jax_array__\u001b[49m\u001b[43m(\u001b[49m\u001b[43m)\u001b[49m)\n\u001b[1;32m   1528\u001b[0m \u001b[38;5;28;01mraise\u001b[39;00m \u001b[38;5;167;01mTypeError\u001b[39;00m(\u001b[38;5;124mf\u001b[39m\u001b[38;5;124m\"\u001b[39m\u001b[38;5;124mValue \u001b[39m\u001b[38;5;132;01m{\u001b[39;00mx\u001b[38;5;132;01m!r}\u001b[39;00m\u001b[38;5;124m with type \u001b[39m\u001b[38;5;132;01m{\u001b[39;00m\u001b[38;5;28mtype\u001b[39m(x)\u001b[38;5;132;01m}\u001b[39;00m\u001b[38;5;124m is not a valid JAX \u001b[39m\u001b[38;5;124m\"\u001b[39m\n\u001b[1;32m   1529\u001b[0m                  \u001b[38;5;124m\"\u001b[39m\u001b[38;5;124mtype\u001b[39m\u001b[38;5;124m\"\u001b[39m)\n",
      "\u001b[0;31mRecursionError\u001b[0m: Exception encountered when calling Dense.call().\n\n\u001b[1mmaximum recursion depth exceeded while calling a Python object\u001b[0m\n\nArguments received by Dense.call():\n  • inputs=jnp.ndarray(shape=(128, 784), dtype=float32)\n  • training=None"
     ]
    }
   ],
   "source": [
    "epochs = 3\n",
    "new_state = state\n",
    "for ep in range(epochs):\n",
    "    for inputs_batch, targets_batch in image_dataset:\n",
    "        loss, new_state = train_step(new_state, inputs_batch, targets_batch)\n",
    "    print(f'Epoch {ep}: LOSS - {loss}')"
   ]
  },
  {
   "cell_type": "code",
   "execution_count": 23,
   "id": "e621afa5-95cc-406c-b2b9-c647a2deb9bd",
   "metadata": {},
   "outputs": [
    {
     "data": {
      "text/plain": [
       "[<KerasVariable shape=(784, 512), dtype=float32, path=dense_2/kernel>,\n",
       " <KerasVariable shape=(512,), dtype=float32, path=dense_2/bias>,\n",
       " <KerasVariable shape=(2,), dtype=uint32, path=seed_generator_1/seed_generator_state>,\n",
       " <KerasVariable shape=(512, 10), dtype=float32, path=dense_3/kernel>,\n",
       " <KerasVariable shape=(10,), dtype=float32, path=dense_3/bias>]"
      ]
     },
     "execution_count": 23,
     "metadata": {},
     "output_type": "execute_result"
    }
   ],
   "source": [
    "model.variables"
   ]
  },
  {
   "cell_type": "code",
   "execution_count": 25,
   "id": "5fb81027-23b9-419a-86e4-eed96b9551e3",
   "metadata": {},
   "outputs": [
    {
     "ename": "TypeError",
     "evalue": "'list' object is not callable",
     "output_type": "error",
     "traceback": [
      "\u001b[0;31m---------------------------------------------------------------------------\u001b[0m",
      "\u001b[0;31mTypeError\u001b[0m                                 Traceback (most recent call last)",
      "Cell \u001b[0;32mIn[25], line 1\u001b[0m\n\u001b[0;32m----> 1\u001b[0m \u001b[43moptimizer\u001b[49m\u001b[38;5;241;43m.\u001b[39;49m\u001b[43mvariables\u001b[49m\u001b[43m(\u001b[49m\u001b[43m)\u001b[49m\n",
      "\u001b[0;31mTypeError\u001b[0m: 'list' object is not callable"
     ]
    }
   ],
   "source": [
    "optimizer.variables()\n"
   ]
  }
 ],
 "metadata": {
  "kernelspec": {
   "display_name": "Python 3 (ipykernel)",
   "language": "python",
   "name": "python3"
  },
  "language_info": {
   "codemirror_mode": {
    "name": "ipython",
    "version": 3
   },
   "file_extension": ".py",
   "mimetype": "text/x-python",
   "name": "python",
   "nbconvert_exporter": "python",
   "pygments_lexer": "ipython3",
   "version": "3.10.15"
  }
 },
 "nbformat": 4,
 "nbformat_minor": 5
}
