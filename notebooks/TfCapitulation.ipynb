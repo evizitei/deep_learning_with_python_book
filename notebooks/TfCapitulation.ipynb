{
 "cells": [
  {
   "cell_type": "code",
   "execution_count": 8,
   "id": "d7f05d82-7134-4959-8b95-a04024fa60a8",
   "metadata": {},
   "outputs": [],
   "source": [
    "import tensorflow as tf\n",
    "import keras"
   ]
  },
  {
   "cell_type": "code",
   "execution_count": 14,
   "id": "fc120789-935a-497f-99c9-35acb9904c45",
   "metadata": {},
   "outputs": [],
   "source": [
    "from tensorflow.keras.datasets import mnist\n",
    "  \n",
    "def get_mnist_model():                                                \n",
    "    inputs = keras.Input(shape=(28 * 28,))\n",
    "    features = keras.layers.Dense(512, activation=\"relu\")(inputs)\n",
    "    features = keras.layers.Dropout(0.5)(features)\n",
    "    outputs = keras.layers.Dense(10, activation=\"softmax\")(features)\n",
    "    model = keras.Model(inputs, outputs)\n",
    "    return model\n",
    "    \n",
    "(images, labels), (test_images, test_labels) = mnist.load_data()\n",
    "images = images.reshape((60000, 28 * 28)).astype(\"float32\") / 255 \n",
    "test_images = test_images.reshape((10000, 28 * 28)).astype(\"float32\") / 255 \n",
    "train_images, val_images = images[10000:], images[:10000]\n",
    "train_labels, val_labels = labels[10000:], labels[:10000]"
   ]
  },
  {
   "cell_type": "code",
   "execution_count": 15,
   "id": "bc8b02be-4a87-47a5-b922-930e9b04ec4b",
   "metadata": {},
   "outputs": [
    {
     "name": "stderr",
     "output_type": "stream",
     "text": [
      "WARNING:absl:At this time, the v2.11+ optimizer `tf.keras.optimizers.RMSprop` runs slowly on M1/M2 Macs, please use the legacy Keras optimizer instead, located at `tf.keras.optimizers.legacy.RMSprop`.\n"
     ]
    }
   ],
   "source": [
    "model = get_mnist_model()\n",
    " \n",
    "loss_fn = keras.losses.SparseCategoricalCrossentropy()                    \n",
    "optimizer = keras.optimizers.RMSprop()                                    \n",
    "metrics = [keras.metrics.SparseCategoricalAccuracy()]                     \n",
    "loss_tracking_metric = keras.metrics.Mean()                               \n",
    " \n",
    "def train_step(inputs, targets):\n",
    "    with tf.GradientTape() as tape:                                       \n",
    "        predictions = model(inputs, training=True)                        \n",
    "        loss = loss_fn(targets, predictions)                              \n",
    "    gradients = tape.gradient(loss, model.trainable_weights)              \n",
    "    optimizer.apply_gradients(zip(gradients, model.trainable_weights))    \n",
    " \n",
    "    logs = {}                                                             \n",
    "    for metric in metrics:                                                \n",
    "        metric.update_state(targets, predictions)                         \n",
    "        logs[metric.name] = metric.result()                               \n",
    " \n",
    "    loss_tracking_metric.update_state(loss)                               \n",
    "    logs[\"loss\"] = loss_tracking_metric.result()                          \n",
    "    return logs                                                           \n",
    "def reset_metrics():\n",
    "    for metric in metrics:\n",
    "        metric.reset_state()\n",
    "    loss_tracking_metric.reset_state()"
   ]
  },
  {
   "cell_type": "code",
   "execution_count": null,
   "id": "6255eab1-f36b-43f8-a444-854b221919db",
   "metadata": {},
   "outputs": [
    {
     "name": "stdout",
     "output_type": "stream",
     "text": [
      "Results at the end of epoch 0\n",
      "...sparse_categorical_accuracy: 0.9201\n",
      "...loss: 0.2731\n"
     ]
    }
   ],
   "source": [
    "training_dataset = tf.data.Dataset.from_tensor_slices(\n",
    "    (train_images, train_labels))\n",
    "training_dataset = training_dataset.batch(32)\n",
    "epochs = 3 \n",
    "for epoch in range(epochs):\n",
    "    reset_metrics()\n",
    "    for inputs_batch, targets_batch in training_dataset:\n",
    "        logs = train_step(inputs_batch, targets_batch)\n",
    "    print(f\"Results at the end of epoch {epoch}\")\n",
    "    for key, value in logs.items():\n",
    "        print(f\"...{key}: {value:.4f}\")"
   ]
  }
 ],
 "metadata": {
  "kernelspec": {
   "display_name": "Python 3 (ipykernel)",
   "language": "python",
   "name": "python3"
  },
  "language_info": {
   "codemirror_mode": {
    "name": "ipython",
    "version": 3
   },
   "file_extension": ".py",
   "mimetype": "text/x-python",
   "name": "python",
   "nbconvert_exporter": "python",
   "pygments_lexer": "ipython3",
   "version": "3.10.15"
  }
 },
 "nbformat": 4,
 "nbformat_minor": 5
}
